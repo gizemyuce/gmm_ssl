{
 "cells": [
  {
   "cell_type": "markdown",
   "metadata": {
    "id": "YaxneLE5E4h0"
   },
   "source": [
    "# Functions"
   ]
  },
  {
   "cell_type": "code",
   "execution_count": 1,
   "metadata": {
    "id": "584RYSqj-leU"
   },
   "outputs": [],
   "source": [
    "import numpy as np\n",
    "import torch\n",
    "from matplotlib import pyplot as plt\n",
    "from numpy import linalg as LA\n",
    "from sklearn.mixture import GaussianMixture\n",
    "import seaborn as sns\n",
    "import wandb"
   ]
  },
  {
   "cell_type": "code",
   "execution_count": 2,
   "metadata": {
    "id": "mGL0rvtIAFgJ"
   },
   "outputs": [],
   "source": [
    "def plot(x_1_labeled, x_2_labeled, x_unlabeled, W_OPT= np.ones(2)/np.sqrt(2), GAMMA=None , LIM=10):\n",
    "  _, ax = plt.subplots(figsize=(10,10))\n",
    "  ax.set_aspect('equal', adjustable='box')\n",
    "  ax.set_xlim(-LIM, LIM)\n",
    "  ax.set_ylim(-LIM, LIM)\n",
    "\n",
    "\n",
    "#   # opt & margin\n",
    "#   _x = np.linspace(-LIM, LIM, 100)\n",
    "#   _y = - W_OPT[0] * _x / W_OPT[1]\n",
    "#   ax.plot(_x, _y, c='black')\n",
    "\n",
    "  if GAMMA is not None:\n",
    "      ax.plot(_x, _y + GAMMA, c='grey')\n",
    "      ax.plot(_x, _y - GAMMA, c='grey')\n",
    "\n",
    "\n",
    "  ax.scatter(x_unlabeled[:, 0], x_unlabeled[:, 1], marker='.', c='lightblue', s=5, label='unl')\n",
    "  ax.scatter(x_1_labeled[:, 0],x_1_labeled[:, 1], marker='+', c='blue', s=20, label='0')\n",
    "  ax.scatter(x_2_labeled[:, 0], x_2_labeled[:, 1], marker='_', c='red', s=20, label='1')\n",
    "  plt.legend()\n",
    "  return plt"
   ]
  },
  {
   "cell_type": "code",
   "execution_count": 3,
   "metadata": {
    "id": "YLLNAaeTzlmJ"
   },
   "outputs": [],
   "source": [
    "def expectation_maximization_kmeans_init(x_unlabeled):\n",
    "#     print(x_unlabeled[0], x_unlabeled.shape)\n",
    "    gm = GaussianMixture(n_components=len(x_unlabeled[0]), random_state=0).fit(x_unlabeled)\n",
    "    return gm.means_"
   ]
  },
  {
   "cell_type": "code",
   "execution_count": 4,
   "metadata": {
    "id": "sdWINVOm0Fvv"
   },
   "outputs": [],
   "source": [
    "def expectation_maximization_supervised_init(x_unlabeled=1000,x_1_labeled=10, x_2_labeled=10):\n",
    "  mean_1 = np.mean(x_1_labeled, axis=0)\n",
    "  mean_2 = np.mean(x_2_labeled, axis=0)\n",
    "  means_init = np.append(mean_1[None, :], mean_2[None, :] ,axis=0)\n",
    "  gm = GaussianMixture(n_components=2, random_state=0, means_init = means_init ).fit(x_unlabeled)\n",
    "  return gm.means_"
   ]
  },
  {
   "cell_type": "code",
   "execution_count": 5,
   "metadata": {},
   "outputs": [
    {
     "data": {
      "text/plain": [
       "(array([1, 2, 3]), array([4, 5]))"
      ]
     },
     "execution_count": 5,
     "metadata": {},
     "output_type": "execute_result"
    }
   ],
   "source": [
    "a = np.array([1, 2, 3, 4, 5])\n",
    "a[:-2], a[-2:]"
   ]
  },
  {
   "cell_type": "code",
   "execution_count": 6,
   "metadata": {},
   "outputs": [],
   "source": [
    "def shuffle_data(A, b, enforce_constraint_on=None, seed=None):\n",
    "    # If enforce_constrain_on is set, then make sure that we have samples from \n",
    "    # both classes in the first `enforce_constraint_on` samples.\n",
    "\n",
    "    # idxs = None\n",
    "    # while idxs is None or \n",
    "    #       (enforce_constraint_on is not None and \n",
    "    #        np.unique(b[idxs][:enforce_constraint_on]).shape[0] < 2):\n",
    "    #   idxs = np.random.permutation(list(range(A.shape[0])))\n",
    "\n",
    "    if seed is not None:\n",
    "        np.random.seed(seed)\n",
    "    idxs = np.random.permutation(list(range(A.shape[0])))\n",
    "    A, b = A[idxs], b[idxs]\n",
    "    if enforce_constraint_on is not None:\n",
    "        # Ensure that the first `ensure_constraint_on` elements are half from one label, half from the other.\n",
    "        labels = np.unique(b)\n",
    "        neg_idxs = np.where((b == labels[0]))[0][:enforce_constraint_on // 2]\n",
    "        pos_idxs = np.where((b == labels[1]))[0][:enforce_constraint_on // 2]\n",
    "        first_idxs = np.concatenate((neg_idxs, pos_idxs))\n",
    "        idxs = np.random.permutation(list(range(first_idxs.shape[0])))\n",
    "        first_idxs = first_idxs[idxs]\n",
    "\n",
    "        mask = np.ones(b.shape[0], dtype=bool)\n",
    "        mask[neg_idxs] = False\n",
    "        mask[pos_idxs] = False\n",
    "        rest_A, rest_b = A[mask], b[mask]\n",
    "        A = np.concatenate((A[first_idxs], rest_A))\n",
    "        b = np.concatenate((b[first_idxs], rest_b))\n",
    "    return A, b\n",
    "\n",
    "def get_dataset(id_or_name, shuffle=True, test_ratio=0.2, balance_data=False):\n",
    "    data = openml.datasets.get_dataset(id_or_name)\n",
    "    X, y, _, _ = data.get_data(target=data.default_target_attribute)\n",
    "    X, y = X.to_numpy(), y.to_numpy().astype(np.int)\n",
    "\n",
    "    # Make all labels be -1 or 1.\n",
    "    labels = list(np.sort(np.unique(y)))\n",
    "    y[y == labels[0]] = -1\n",
    "    y[y == labels[1]] = 1\n",
    "#     assert list(np.sort(np.unique(y))) == [-1, 1], np.sort(np.unique(y))\n",
    "\n",
    "    # Balance the two classes, by subsampling the majority class.\n",
    "    if id_or_name != \"mnist_784\" and balance_data:\n",
    "        X, y = shuffle_data(X, y)\n",
    "        neg_idxs, pos_idxs = np.where(y == -1)[0], np.where(y == 1)[0]\n",
    "        neg_size, pos_size = neg_idxs.shape[0], pos_idxs.shape[0]\n",
    "        if neg_size < pos_size:\n",
    "            idx = np.concatenate((neg_idxs, pos_idxs[:neg_size]))\n",
    "        else:\n",
    "            idx = np.concatenate((neg_idxs[:pos_size], pos_idxs))\n",
    "        X, y = shuffle_data(X[idx], y[idx])\n",
    "\n",
    "    X_train, X_test, y_train, y_test = train_test_split(X, y, test_size=test_ratio, random_state=42)\n",
    "    test_size = y_test.shape[0]\n",
    "    X_train, X_val, y_train, y_val = X_train[:-test_size], X_train[-test_size:], y_train[:-test_size], y_train[-test_size:]\n",
    "    \n",
    "    assert test_size == X_val.shape[0]\n",
    "    \n",
    "    if shuffle:\n",
    "        X_train, y_train = shuffle_data(X_train, y_train)\n",
    "    return (X_train, y_train, X_val, y_val, X_test, y_test)"
   ]
  },
  {
   "cell_type": "code",
   "execution_count": 7,
   "metadata": {},
   "outputs": [
    {
     "name": "stderr",
     "output_type": "stream",
     "text": [
      "/var/folders/n1/dtf3g85n7cgcs_h9gz0ygx3r0000gn/T/ipykernel_30852/1949607014.py:35: DeprecationWarning: `np.int` is a deprecated alias for the builtin `int`. To silence this warning, use `int` by itself. Doing this will not modify any behavior and is safe. When replacing `np.int`, you may wish to use e.g. `np.int64` or `np.int32` to specify the precision. If you wish to review your current use, check the release note link for additional information.\n",
      "Deprecated in NumPy 1.20; for more details and guidance: https://numpy.org/devdocs/release/1.20.0-notes.html#deprecations\n",
      "  X, y = X.to_numpy(), y.to_numpy().astype(np.int)\n"
     ]
    }
   ],
   "source": [
    "from sklearn.decomposition import PCA\n",
    "from sklearn import preprocessing\n",
    "import numpy as np\n",
    "import openml\n",
    "from sklearn.model_selection import train_test_split\n",
    "\n",
    "# id_or_name = \"mnist_784\"\n",
    "id_or_name = \"vehicleNorm\"\n",
    "\n",
    "data = get_dataset(id_or_name, balance_data=True)\n",
    "\n",
    "x, y = data[0], data[1]\n",
    "scaler = preprocessing.StandardScaler()\n",
    "if id_or_name == \"mnist_784\":\n",
    "    class1=2\n",
    "    class2=3\n",
    "    x_subset=np.concatenate((x[y==class1],x[y==class2]) )\n",
    "    x_scaled=scaler.fit_transform(x_subset)\n",
    "    y_subset=np.concatenate((y[y==class1], y[y==class2]))\n",
    "else:\n",
    "    x_subset, y_subset=x, y\n",
    "    x_scaled=scaler.fit_transform(x_subset)"
   ]
  },
  {
   "cell_type": "code",
   "execution_count": 8,
   "metadata": {},
   "outputs": [],
   "source": [
    "pca=PCA(n_components=10)\n",
    "x_trans=x_scaled#pca.fit_transform(x_scaled)\n",
    "perm_idx=np.random.permutation(len(x_trans))\n",
    "x_trans=x_trans[perm_idx]\n",
    "y_subset=y_subset[perm_idx]"
   ]
  },
  {
   "cell_type": "code",
   "execution_count": 9,
   "metadata": {},
   "outputs": [],
   "source": [
    "from sklearn.linear_model import LogisticRegression\n",
    "def get_sup_estimator(x_labelled, y):\n",
    "    clf = LogisticRegression(random_state=0, penalty='none').fit(x_labelled, y)\n",
    "    return clf"
   ]
  },
  {
   "cell_type": "code",
   "execution_count": 10,
   "metadata": {},
   "outputs": [],
   "source": [
    "from sklearn.linear_model import LogisticRegression\n",
    "def get_unsup_estimator(x_unlabelled, x_test, y_test):\n",
    "    em_means = expectation_maximization_kmeans_init(x_unlabelled)\n",
    "    clf_em = LogisticRegression(random_state=0, penalty='none')\n",
    "    clf_em.coef_=np.mean(em_means,axis=1).reshape(1,-1)\n",
    "    clf_em.intercept_=0\n",
    "    clf_em.classes_=np.unique(y_test)\n",
    "    if clf_em.score(x_test, y_test) <0.5:\n",
    "        clf_em.coef_*=-1\n",
    "    return clf_em"
   ]
  },
  {
   "cell_type": "code",
   "execution_count": 11,
   "metadata": {},
   "outputs": [],
   "source": [
    "\n",
    "# plt=plot(x_labelled[y==class1], \n",
    "#      x_labelled[y==class2], \n",
    "#      x_unlabelled, LIM=30)\n",
    "# plt.scatter(x=np.mean(em_means[:,0]),y=np.mean(em_means[:,1]), s=52,c='g', )\n",
    "# plt.scatter(x=clf.coef_[:,0],y=clf.coef_[:,1], marker='x', s=52,c='b', )\n"
   ]
  },
  {
   "cell_type": "code",
   "execution_count": 12,
   "metadata": {},
   "outputs": [],
   "source": [
    "\n",
    "def get_ssl_estimator(clf_sl, clf_em, lambda_):\n",
    "    clf_ssl = LogisticRegression(random_state=0, penalty='none')\n",
    "    w=lambda_*clf_em.coef_ + (1-lambda_)*clf_sl.coef_\n",
    "    w0=(1-lambda_)*clf_sl.intercept_\n",
    "\n",
    "    clf_ssl.coef_=w\n",
    "    clf_ssl.intercept_=w0\n",
    "    clf_ssl.classes_=clf_sl.classes_\n",
    "    return clf_ssl\n"
   ]
  },
  {
   "cell_type": "code",
   "execution_count": 16,
   "metadata": {},
   "outputs": [],
   "source": [
    "def init_wandb_fn(params, goal_tag=None, debug=False):\n",
    "    if debug:\n",
    "        run = wandb.init(mode='disabled')\n",
    "    else:\n",
    "        run = wandb.init(project=\"ssl_lower_bound\", entity=\"alext2\", tags=[goal_tag] if goal_tag is not None else [],\n",
    "                   # group=args.mode + '_nu2sign_init_' + str(args.init) + '_W_' + str(args.W),\n",
    "                   settings=wandb.Settings(start_method=\"fork\"))\n",
    "    wandb.config.update(params)\n",
    "    return run"
   ]
  },
  {
   "cell_type": "code",
   "execution_count": 228,
   "metadata": {
    "scrolled": true
   },
   "outputs": [
    {
     "data": {
      "text/html": [
       "wandb version 0.14.2 is available!  To upgrade, please run:\n",
       " $ pip install wandb --upgrade"
      ],
      "text/plain": [
       "<IPython.core.display.HTML object>"
      ]
     },
     "metadata": {},
     "output_type": "display_data"
    },
    {
     "data": {
      "text/html": [
       "Tracking run with wandb version 0.13.2"
      ],
      "text/plain": [
       "<IPython.core.display.HTML object>"
      ]
     },
     "metadata": {},
     "output_type": "display_data"
    },
    {
     "data": {
      "text/html": [
       "Run data is saved locally in <code>/Users/alexandrutifrea/Projects/gmm_ssl/wandb/run-20230419_221544-1qykf99t</code>"
      ],
      "text/plain": [
       "<IPython.core.display.HTML object>"
      ]
     },
     "metadata": {},
     "output_type": "display_data"
    },
    {
     "data": {
      "text/html": [
       "Syncing run <strong><a href=\"https://wandb.ai/alext2/ssl_lower_bound/runs/1qykf99t\" target=\"_blank\">cool-river-24</a></strong> to <a href=\"https://wandb.ai/alext2/ssl_lower_bound\" target=\"_blank\">Weights & Biases</a> (<a href=\"https://wandb.me/run\" target=\"_blank\">docs</a>)<br/>"
      ],
      "text/plain": [
       "<IPython.core.display.HTML object>"
      ]
     },
     "metadata": {},
     "output_type": "display_data"
    },
    {
     "name": "stdout",
     "output_type": "stream",
     "text": [
      "10 0.3804932507865625 0.3327920430325789 0.4704658479650867\n",
      "50 0.363087384552928 0.363087384552928 0.48949558510098445\n",
      "100 0.29295645996143305 0.2929057139957374 0.4340809905612504\n"
     ]
    },
    {
     "data": {
      "text/html": [
       "Waiting for W&B process to finish... <strong style=\"color:green\">(success).</strong>"
      ],
      "text/plain": [
       "<IPython.core.display.HTML object>"
      ]
     },
     "metadata": {},
     "output_type": "display_data"
    },
    {
     "data": {
      "application/vnd.jupyter.widget-view+json": {
       "model_id": "",
       "version_major": 2,
       "version_minor": 0
      },
      "text/plain": [
       "VBox(children=(Label(value='0.001 MB of 0.001 MB uploaded (0.000 MB deduped)\\r'), FloatProgress(value=1.0, max…"
      ]
     },
     "metadata": {},
     "output_type": "display_data"
    },
    {
     "data": {
      "text/html": [
       "<style>\n",
       "    table.wandb td:nth-child(1) { padding: 0 10px; text-align: left ; width: auto;} td:nth-child(2) {text-align: left ; width: 100%}\n",
       "    .wandb-row { display: flex; flex-direction: row; flex-wrap: wrap; justify-content: flex-start; width: 100% }\n",
       "    .wandb-col { display: flex; flex-direction: column; flex-basis: 100%; flex: 1; padding: 10px; }\n",
       "    </style>\n",
       "<div class=\"wandb-row\"><div class=\"wandb-col\"><h3>Run history:</h3><br/><table class=\"wandb\"><tr><td>best_lambda</td><td>█▁▂</td></tr><tr><td>n_labeled</td><td>▁▄█</td></tr><tr><td>sl_test_error</td><td>█▇▁</td></tr><tr><td>sl_val_error</td><td>█▇▁</td></tr><tr><td>sl_vs_ssl_gap_test</td><td>█▁▁</td></tr><tr><td>sl_vs_ssl_gap_val</td><td>█▁▁</td></tr><tr><td>ssl_test_error</td><td>▅█▁</td></tr><tr><td>ssl_val_error</td><td>▅█▁</td></tr><tr><td>ul_test_error</td><td>▆█▁</td></tr><tr><td>ul_val_error</td><td>▆█▁</td></tr><tr><td>ul_vs_ssl_gap_test</td><td>▇▁█</td></tr><tr><td>ul_vs_ssl_gap_val</td><td>▆▁█</td></tr></table><br/></div><div class=\"wandb-col\"><h3>Run summary:</h3><br/><table class=\"wandb\"><tr><td>best_lambda</td><td>0.05263</td></tr><tr><td>n_labeled</td><td>100</td></tr><tr><td>sl_test_error</td><td>0.29357</td></tr><tr><td>sl_val_error</td><td>0.29296</td></tr><tr><td>sl_vs_ssl_gap_test</td><td>5e-05</td></tr><tr><td>sl_vs_ssl_gap_val</td><td>5e-05</td></tr><tr><td>ssl_test_error</td><td>0.29351</td></tr><tr><td>ssl_val_error</td><td>0.29291</td></tr><tr><td>ul_test_error</td><td>0.43362</td></tr><tr><td>ul_val_error</td><td>0.43408</td></tr><tr><td>ul_vs_ssl_gap_test</td><td>0.14011</td></tr><tr><td>ul_vs_ssl_gap_val</td><td>0.14118</td></tr></table><br/></div></div>"
      ],
      "text/plain": [
       "<IPython.core.display.HTML object>"
      ]
     },
     "metadata": {},
     "output_type": "display_data"
    },
    {
     "data": {
      "text/html": [
       "Synced <strong style=\"color:#cdcd00\">cool-river-24</strong>: <a href=\"https://wandb.ai/alext2/ssl_lower_bound/runs/1qykf99t\" target=\"_blank\">https://wandb.ai/alext2/ssl_lower_bound/runs/1qykf99t</a><br/>Synced 5 W&B file(s), 0 media file(s), 0 artifact file(s) and 0 other file(s)"
      ],
      "text/plain": [
       "<IPython.core.display.HTML object>"
      ]
     },
     "metadata": {},
     "output_type": "display_data"
    },
    {
     "data": {
      "text/html": [
       "Find logs at: <code>./wandb/run-20230419_221544-1qykf99t/logs</code>"
      ],
      "text/plain": [
       "<IPython.core.display.HTML object>"
      ]
     },
     "metadata": {},
     "output_type": "display_data"
    },
    {
     "data": {
      "text/html": [
       "wandb version 0.14.2 is available!  To upgrade, please run:\n",
       " $ pip install wandb --upgrade"
      ],
      "text/plain": [
       "<IPython.core.display.HTML object>"
      ]
     },
     "metadata": {},
     "output_type": "display_data"
    },
    {
     "data": {
      "text/html": [
       "Tracking run with wandb version 0.13.2"
      ],
      "text/plain": [
       "<IPython.core.display.HTML object>"
      ]
     },
     "metadata": {},
     "output_type": "display_data"
    },
    {
     "data": {
      "text/html": [
       "Run data is saved locally in <code>/Users/alexandrutifrea/Projects/gmm_ssl/wandb/run-20230419_221551-nronlcrc</code>"
      ],
      "text/plain": [
       "<IPython.core.display.HTML object>"
      ]
     },
     "metadata": {},
     "output_type": "display_data"
    },
    {
     "data": {
      "text/html": [
       "Syncing run <strong><a href=\"https://wandb.ai/alext2/ssl_lower_bound/runs/nronlcrc\" target=\"_blank\">elated-night-25</a></strong> to <a href=\"https://wandb.ai/alext2/ssl_lower_bound\" target=\"_blank\">Weights & Biases</a> (<a href=\"https://wandb.me/run\" target=\"_blank\">docs</a>)<br/>"
      ],
      "text/plain": [
       "<IPython.core.display.HTML object>"
      ]
     },
     "metadata": {},
     "output_type": "display_data"
    },
    {
     "name": "stdout",
     "output_type": "stream",
     "text": [
      "10 0.43387800669846743 0.31010859636658883 0.4919821374200751\n",
      "50 0.2538820663757231 0.2538820663757231 0.4651375215670355\n",
      "100 0.2797117629148482 0.26966406170709434 0.46260022328224903\n"
     ]
    },
    {
     "data": {
      "text/html": [
       "Waiting for W&B process to finish... <strong style=\"color:green\">(success).</strong>"
      ],
      "text/plain": [
       "<IPython.core.display.HTML object>"
      ]
     },
     "metadata": {},
     "output_type": "display_data"
    },
    {
     "data": {
      "application/vnd.jupyter.widget-view+json": {
       "model_id": "",
       "version_major": 2,
       "version_minor": 0
      },
      "text/plain": [
       "VBox(children=(Label(value='0.001 MB of 0.001 MB uploaded (0.000 MB deduped)\\r'), FloatProgress(value=1.0, max…"
      ]
     },
     "metadata": {},
     "output_type": "display_data"
    },
    {
     "data": {
      "text/html": [
       "<style>\n",
       "    table.wandb td:nth-child(1) { padding: 0 10px; text-align: left ; width: auto;} td:nth-child(2) {text-align: left ; width: 100%}\n",
       "    .wandb-row { display: flex; flex-direction: row; flex-wrap: wrap; justify-content: flex-start; width: 100% }\n",
       "    .wandb-col { display: flex; flex-direction: column; flex-basis: 100%; flex: 1; padding: 10px; }\n",
       "    </style>\n",
       "<div class=\"wandb-row\"><div class=\"wandb-col\"><h3>Run history:</h3><br/><table class=\"wandb\"><tr><td>best_lambda</td><td>▆▁█</td></tr><tr><td>n_labeled</td><td>▁▄█</td></tr><tr><td>sl_test_error</td><td>█▁▂</td></tr><tr><td>sl_val_error</td><td>█▁▂</td></tr><tr><td>sl_vs_ssl_gap_test</td><td>█▁▁</td></tr><tr><td>sl_vs_ssl_gap_val</td><td>█▁▂</td></tr><tr><td>ssl_test_error</td><td>█▁▃</td></tr><tr><td>ssl_val_error</td><td>█▁▃</td></tr><tr><td>ul_test_error</td><td>█▂▁</td></tr><tr><td>ul_val_error</td><td>█▂▁</td></tr><tr><td>ul_vs_ssl_gap_test</td><td>▁█▃</td></tr><tr><td>ul_vs_ssl_gap_val</td><td>▁█▄</td></tr></table><br/></div><div class=\"wandb-col\"><h3>Run summary:</h3><br/><table class=\"wandb\"><tr><td>best_lambda</td><td>0.89474</td></tr><tr><td>n_labeled</td><td>100</td></tr><tr><td>sl_test_error</td><td>0.27824</td></tr><tr><td>sl_val_error</td><td>0.27971</td></tr><tr><td>sl_vs_ssl_gap_test</td><td>0.00893</td></tr><tr><td>sl_vs_ssl_gap_val</td><td>0.01005</td></tr><tr><td>ssl_test_error</td><td>0.26931</td></tr><tr><td>ssl_val_error</td><td>0.26966</td></tr><tr><td>ul_test_error</td><td>0.46108</td></tr><tr><td>ul_val_error</td><td>0.4626</td></tr><tr><td>ul_vs_ssl_gap_test</td><td>0.19177</td></tr><tr><td>ul_vs_ssl_gap_val</td><td>0.19294</td></tr></table><br/></div></div>"
      ],
      "text/plain": [
       "<IPython.core.display.HTML object>"
      ]
     },
     "metadata": {},
     "output_type": "display_data"
    },
    {
     "data": {
      "text/html": [
       "Synced <strong style=\"color:#cdcd00\">elated-night-25</strong>: <a href=\"https://wandb.ai/alext2/ssl_lower_bound/runs/nronlcrc\" target=\"_blank\">https://wandb.ai/alext2/ssl_lower_bound/runs/nronlcrc</a><br/>Synced 5 W&B file(s), 0 media file(s), 0 artifact file(s) and 0 other file(s)"
      ],
      "text/plain": [
       "<IPython.core.display.HTML object>"
      ]
     },
     "metadata": {},
     "output_type": "display_data"
    },
    {
     "data": {
      "text/html": [
       "Find logs at: <code>./wandb/run-20230419_221551-nronlcrc/logs</code>"
      ],
      "text/plain": [
       "<IPython.core.display.HTML object>"
      ]
     },
     "metadata": {},
     "output_type": "display_data"
    },
    {
     "data": {
      "text/html": [
       "wandb version 0.14.2 is available!  To upgrade, please run:\n",
       " $ pip install wandb --upgrade"
      ],
      "text/plain": [
       "<IPython.core.display.HTML object>"
      ]
     },
     "metadata": {},
     "output_type": "display_data"
    },
    {
     "data": {
      "text/html": [
       "Tracking run with wandb version 0.13.2"
      ],
      "text/plain": [
       "<IPython.core.display.HTML object>"
      ]
     },
     "metadata": {},
     "output_type": "display_data"
    },
    {
     "data": {
      "text/html": [
       "Run data is saved locally in <code>/Users/alexandrutifrea/Projects/gmm_ssl/wandb/run-20230419_221558-2nv0j2lr</code>"
      ],
      "text/plain": [
       "<IPython.core.display.HTML object>"
      ]
     },
     "metadata": {},
     "output_type": "display_data"
    },
    {
     "data": {
      "text/html": [
       "Syncing run <strong><a href=\"https://wandb.ai/alext2/ssl_lower_bound/runs/2nv0j2lr\" target=\"_blank\">fiery-capybara-26</a></strong> to <a href=\"https://wandb.ai/alext2/ssl_lower_bound\" target=\"_blank\">Weights & Biases</a> (<a href=\"https://wandb.me/run\" target=\"_blank\">docs</a>)<br/>"
      ],
      "text/plain": [
       "<IPython.core.display.HTML object>"
      ]
     },
     "metadata": {},
     "output_type": "display_data"
    },
    {
     "name": "stdout",
     "output_type": "stream",
     "text": [
      "10 0.4640718562874252 0.4640718562874252 0.4872120166446767\n",
      "50 0.3663351263574546 0.3663351263574546 0.49609256064142904\n",
      "100 0.4053587739774688 0.40485131432051147 0.47467776311783216\n"
     ]
    },
    {
     "data": {
      "text/html": [
       "Waiting for W&B process to finish... <strong style=\"color:green\">(success).</strong>"
      ],
      "text/plain": [
       "<IPython.core.display.HTML object>"
      ]
     },
     "metadata": {},
     "output_type": "display_data"
    },
    {
     "data": {
      "application/vnd.jupyter.widget-view+json": {
       "model_id": "",
       "version_major": 2,
       "version_minor": 0
      },
      "text/plain": [
       "VBox(children=(Label(value='0.001 MB of 0.001 MB uploaded (0.000 MB deduped)\\r'), FloatProgress(value=1.0, max…"
      ]
     },
     "metadata": {},
     "output_type": "display_data"
    },
    {
     "data": {
      "text/html": [
       "<style>\n",
       "    table.wandb td:nth-child(1) { padding: 0 10px; text-align: left ; width: auto;} td:nth-child(2) {text-align: left ; width: 100%}\n",
       "    .wandb-row { display: flex; flex-direction: row; flex-wrap: wrap; justify-content: flex-start; width: 100% }\n",
       "    .wandb-col { display: flex; flex-direction: column; flex-basis: 100%; flex: 1; padding: 10px; }\n",
       "    </style>\n",
       "<div class=\"wandb-row\"><div class=\"wandb-col\"><h3>Run history:</h3><br/><table class=\"wandb\"><tr><td>best_lambda</td><td>▁▁█</td></tr><tr><td>n_labeled</td><td>▁▄█</td></tr><tr><td>sl_test_error</td><td>█▁▄</td></tr><tr><td>sl_val_error</td><td>█▁▄</td></tr><tr><td>sl_vs_ssl_gap_test</td><td>██▁</td></tr><tr><td>sl_vs_ssl_gap_val</td><td>▁▁█</td></tr><tr><td>ssl_test_error</td><td>█▁▄</td></tr><tr><td>ssl_val_error</td><td>█▁▄</td></tr><tr><td>ul_test_error</td><td>▅█▁</td></tr><tr><td>ul_val_error</td><td>▅█▁</td></tr><tr><td>ul_vs_ssl_gap_test</td><td>▁█▄</td></tr><tr><td>ul_vs_ssl_gap_val</td><td>▁█▄</td></tr></table><br/></div><div class=\"wandb-col\"><h3>Run summary:</h3><br/><table class=\"wandb\"><tr><td>best_lambda</td><td>0.94737</td></tr><tr><td>n_labeled</td><td>100</td></tr><tr><td>sl_test_error</td><td>0.40211</td></tr><tr><td>sl_val_error</td><td>0.40536</td></tr><tr><td>sl_vs_ssl_gap_test</td><td>-0.0002</td></tr><tr><td>sl_vs_ssl_gap_val</td><td>0.00051</td></tr><tr><td>ssl_test_error</td><td>0.40231</td></tr><tr><td>ssl_val_error</td><td>0.40485</td></tr><tr><td>ul_test_error</td><td>0.47006</td></tr><tr><td>ul_val_error</td><td>0.47468</td></tr><tr><td>ul_vs_ssl_gap_test</td><td>0.06775</td></tr><tr><td>ul_vs_ssl_gap_val</td><td>0.06983</td></tr></table><br/></div></div>"
      ],
      "text/plain": [
       "<IPython.core.display.HTML object>"
      ]
     },
     "metadata": {},
     "output_type": "display_data"
    },
    {
     "data": {
      "text/html": [
       "Synced <strong style=\"color:#cdcd00\">fiery-capybara-26</strong>: <a href=\"https://wandb.ai/alext2/ssl_lower_bound/runs/2nv0j2lr\" target=\"_blank\">https://wandb.ai/alext2/ssl_lower_bound/runs/2nv0j2lr</a><br/>Synced 5 W&B file(s), 0 media file(s), 0 artifact file(s) and 0 other file(s)"
      ],
      "text/plain": [
       "<IPython.core.display.HTML object>"
      ]
     },
     "metadata": {},
     "output_type": "display_data"
    },
    {
     "data": {
      "text/html": [
       "Find logs at: <code>./wandb/run-20230419_221558-2nv0j2lr/logs</code>"
      ],
      "text/plain": [
       "<IPython.core.display.HTML object>"
      ]
     },
     "metadata": {},
     "output_type": "display_data"
    },
    {
     "data": {
      "text/html": [
       "wandb version 0.14.2 is available!  To upgrade, please run:\n",
       " $ pip install wandb --upgrade"
      ],
      "text/plain": [
       "<IPython.core.display.HTML object>"
      ]
     },
     "metadata": {},
     "output_type": "display_data"
    },
    {
     "data": {
      "text/html": [
       "Tracking run with wandb version 0.13.2"
      ],
      "text/plain": [
       "<IPython.core.display.HTML object>"
      ]
     },
     "metadata": {},
     "output_type": "display_data"
    },
    {
     "data": {
      "text/html": [
       "Run data is saved locally in <code>/Users/alexandrutifrea/Projects/gmm_ssl/wandb/run-20230419_221606-1kpb7wt9</code>"
      ],
      "text/plain": [
       "<IPython.core.display.HTML object>"
      ]
     },
     "metadata": {},
     "output_type": "display_data"
    },
    {
     "data": {
      "text/html": [
       "Syncing run <strong><a href=\"https://wandb.ai/alext2/ssl_lower_bound/runs/1kpb7wt9\" target=\"_blank\">pious-dew-27</a></strong> to <a href=\"https://wandb.ai/alext2/ssl_lower_bound\" target=\"_blank\">Weights & Biases</a> (<a href=\"https://wandb.me/run\" target=\"_blank\">docs</a>)<br/>"
      ],
      "text/plain": [
       "<IPython.core.display.HTML object>"
      ]
     },
     "metadata": {},
     "output_type": "display_data"
    },
    {
     "name": "stdout",
     "output_type": "stream",
     "text": [
      "10 0.2986907540850502 0.2986907540850502 0.48152846848675535\n",
      "50 0.29118035116208263 0.24748807469806156 0.3942454074901045\n",
      "100 0.35887546940018267 0.33324875672384047 0.4779762508880544\n"
     ]
    },
    {
     "data": {
      "text/html": [
       "Waiting for W&B process to finish... <strong style=\"color:green\">(success).</strong>"
      ],
      "text/plain": [
       "<IPython.core.display.HTML object>"
      ]
     },
     "metadata": {},
     "output_type": "display_data"
    },
    {
     "data": {
      "application/vnd.jupyter.widget-view+json": {
       "model_id": "",
       "version_major": 2,
       "version_minor": 0
      },
      "text/plain": [
       "VBox(children=(Label(value='0.001 MB of 0.001 MB uploaded (0.000 MB deduped)\\r'), FloatProgress(value=1.0, max…"
      ]
     },
     "metadata": {},
     "output_type": "display_data"
    },
    {
     "data": {
      "text/html": [
       "<style>\n",
       "    table.wandb td:nth-child(1) { padding: 0 10px; text-align: left ; width: auto;} td:nth-child(2) {text-align: left ; width: 100%}\n",
       "    .wandb-row { display: flex; flex-direction: row; flex-wrap: wrap; justify-content: flex-start; width: 100% }\n",
       "    .wandb-col { display: flex; flex-direction: column; flex-basis: 100%; flex: 1; padding: 10px; }\n",
       "    </style>\n",
       "<div class=\"wandb-row\"><div class=\"wandb-col\"><h3>Run history:</h3><br/><table class=\"wandb\"><tr><td>best_lambda</td><td>▁██</td></tr><tr><td>n_labeled</td><td>▁▄█</td></tr><tr><td>sl_test_error</td><td>▁▁█</td></tr><tr><td>sl_val_error</td><td>▂▁█</td></tr><tr><td>sl_vs_ssl_gap_test</td><td>▁█▄</td></tr><tr><td>sl_vs_ssl_gap_val</td><td>▁█▅</td></tr><tr><td>ssl_test_error</td><td>▅▁█</td></tr><tr><td>ssl_val_error</td><td>▅▁█</td></tr><tr><td>ul_test_error</td><td>█▁█</td></tr><tr><td>ul_val_error</td><td>█▁█</td></tr><tr><td>ul_vs_ssl_gap_test</td><td>█▂▁</td></tr><tr><td>ul_vs_ssl_gap_val</td><td>█▁▁</td></tr></table><br/></div><div class=\"wandb-col\"><h3>Run summary:</h3><br/><table class=\"wandb\"><tr><td>best_lambda</td><td>0.94737</td></tr><tr><td>n_labeled</td><td>100</td></tr><tr><td>sl_test_error</td><td>0.35761</td></tr><tr><td>sl_val_error</td><td>0.35888</td></tr><tr><td>sl_vs_ssl_gap_test</td><td>0.01964</td></tr><tr><td>sl_vs_ssl_gap_val</td><td>0.02563</td></tr><tr><td>ssl_test_error</td><td>0.33797</td></tr><tr><td>ssl_val_error</td><td>0.33325</td></tr><tr><td>ul_test_error</td><td>0.47833</td></tr><tr><td>ul_val_error</td><td>0.47798</td></tr><tr><td>ul_vs_ssl_gap_test</td><td>0.14036</td></tr><tr><td>ul_vs_ssl_gap_val</td><td>0.14473</td></tr></table><br/></div></div>"
      ],
      "text/plain": [
       "<IPython.core.display.HTML object>"
      ]
     },
     "metadata": {},
     "output_type": "display_data"
    },
    {
     "data": {
      "text/html": [
       "Synced <strong style=\"color:#cdcd00\">pious-dew-27</strong>: <a href=\"https://wandb.ai/alext2/ssl_lower_bound/runs/1kpb7wt9\" target=\"_blank\">https://wandb.ai/alext2/ssl_lower_bound/runs/1kpb7wt9</a><br/>Synced 5 W&B file(s), 0 media file(s), 0 artifact file(s) and 0 other file(s)"
      ],
      "text/plain": [
       "<IPython.core.display.HTML object>"
      ]
     },
     "metadata": {},
     "output_type": "display_data"
    },
    {
     "data": {
      "text/html": [
       "Find logs at: <code>./wandb/run-20230419_221606-1kpb7wt9/logs</code>"
      ],
      "text/plain": [
       "<IPython.core.display.HTML object>"
      ]
     },
     "metadata": {},
     "output_type": "display_data"
    },
    {
     "data": {
      "text/html": [
       "wandb version 0.14.2 is available!  To upgrade, please run:\n",
       " $ pip install wandb --upgrade"
      ],
      "text/plain": [
       "<IPython.core.display.HTML object>"
      ]
     },
     "metadata": {},
     "output_type": "display_data"
    },
    {
     "data": {
      "text/html": [
       "Tracking run with wandb version 0.13.2"
      ],
      "text/plain": [
       "<IPython.core.display.HTML object>"
      ]
     },
     "metadata": {},
     "output_type": "display_data"
    },
    {
     "data": {
      "text/html": [
       "Run data is saved locally in <code>/Users/alexandrutifrea/Projects/gmm_ssl/wandb/run-20230419_221614-katxj9hr</code>"
      ],
      "text/plain": [
       "<IPython.core.display.HTML object>"
      ]
     },
     "metadata": {},
     "output_type": "display_data"
    },
    {
     "data": {
      "text/html": [
       "Syncing run <strong><a href=\"https://wandb.ai/alext2/ssl_lower_bound/runs/katxj9hr\" target=\"_blank\">lyric-sun-28</a></strong> to <a href=\"https://wandb.ai/alext2/ssl_lower_bound\" target=\"_blank\">Weights & Biases</a> (<a href=\"https://wandb.me/run\" target=\"_blank\">docs</a>)<br/>"
      ],
      "text/plain": [
       "<IPython.core.display.HTML object>"
      ]
     },
     "metadata": {},
     "output_type": "display_data"
    },
    {
     "name": "stdout",
     "output_type": "stream",
     "text": [
      "10 0.3722216583781589 0.31127575357759063 0.46630467877803716\n",
      "50 0.3939916776616259 0.34755911905003556 0.4811732467268852\n",
      "100 0.39536181873541054 0.39470212118136605 0.4669136303663859\n"
     ]
    },
    {
     "data": {
      "text/html": [
       "Waiting for W&B process to finish... <strong style=\"color:green\">(success).</strong>"
      ],
      "text/plain": [
       "<IPython.core.display.HTML object>"
      ]
     },
     "metadata": {},
     "output_type": "display_data"
    },
    {
     "data": {
      "application/vnd.jupyter.widget-view+json": {
       "model_id": "",
       "version_major": 2,
       "version_minor": 0
      },
      "text/plain": [
       "VBox(children=(Label(value='0.001 MB of 0.001 MB uploaded (0.000 MB deduped)\\r'), FloatProgress(value=1.0, max…"
      ]
     },
     "metadata": {},
     "output_type": "display_data"
    },
    {
     "data": {
      "text/html": [
       "<style>\n",
       "    table.wandb td:nth-child(1) { padding: 0 10px; text-align: left ; width: auto;} td:nth-child(2) {text-align: left ; width: 100%}\n",
       "    .wandb-row { display: flex; flex-direction: row; flex-wrap: wrap; justify-content: flex-start; width: 100% }\n",
       "    .wandb-col { display: flex; flex-direction: column; flex-basis: 100%; flex: 1; padding: 10px; }\n",
       "    </style>\n",
       "<div class=\"wandb-row\"><div class=\"wandb-col\"><h3>Run history:</h3><br/><table class=\"wandb\"><tr><td>best_lambda</td><td>▁▆█</td></tr><tr><td>n_labeled</td><td>▁▄█</td></tr><tr><td>sl_test_error</td><td>▁▆█</td></tr><tr><td>sl_val_error</td><td>▁██</td></tr><tr><td>sl_vs_ssl_gap_test</td><td>█▆▁</td></tr><tr><td>sl_vs_ssl_gap_val</td><td>█▆▁</td></tr><tr><td>ssl_test_error</td><td>▁▄█</td></tr><tr><td>ssl_val_error</td><td>▁▄█</td></tr><tr><td>ul_test_error</td><td>▂█▁</td></tr><tr><td>ul_val_error</td><td>▁█▁</td></tr><tr><td>ul_vs_ssl_gap_test</td><td>█▆▁</td></tr><tr><td>ul_vs_ssl_gap_val</td><td>█▆▁</td></tr></table><br/></div><div class=\"wandb-col\"><h3>Run summary:</h3><br/><table class=\"wandb\"><tr><td>best_lambda</td><td>0.89474</td></tr><tr><td>n_labeled</td><td>100</td></tr><tr><td>sl_test_error</td><td>0.39404</td></tr><tr><td>sl_val_error</td><td>0.39536</td></tr><tr><td>sl_vs_ssl_gap_test</td><td>0.00142</td></tr><tr><td>sl_vs_ssl_gap_val</td><td>0.00066</td></tr><tr><td>ssl_test_error</td><td>0.39262</td></tr><tr><td>ssl_val_error</td><td>0.3947</td></tr><tr><td>ul_test_error</td><td>0.46519</td></tr><tr><td>ul_val_error</td><td>0.46691</td></tr><tr><td>ul_vs_ssl_gap_test</td><td>0.07257</td></tr><tr><td>ul_vs_ssl_gap_val</td><td>0.07221</td></tr></table><br/></div></div>"
      ],
      "text/plain": [
       "<IPython.core.display.HTML object>"
      ]
     },
     "metadata": {},
     "output_type": "display_data"
    },
    {
     "data": {
      "text/html": [
       "Synced <strong style=\"color:#cdcd00\">lyric-sun-28</strong>: <a href=\"https://wandb.ai/alext2/ssl_lower_bound/runs/katxj9hr\" target=\"_blank\">https://wandb.ai/alext2/ssl_lower_bound/runs/katxj9hr</a><br/>Synced 5 W&B file(s), 0 media file(s), 0 artifact file(s) and 0 other file(s)"
      ],
      "text/plain": [
       "<IPython.core.display.HTML object>"
      ]
     },
     "metadata": {},
     "output_type": "display_data"
    },
    {
     "data": {
      "text/html": [
       "Find logs at: <code>./wandb/run-20230419_221614-katxj9hr/logs</code>"
      ],
      "text/plain": [
       "<IPython.core.display.HTML object>"
      ]
     },
     "metadata": {},
     "output_type": "display_data"
    },
    {
     "data": {
      "text/html": [
       "wandb version 0.14.2 is available!  To upgrade, please run:\n",
       " $ pip install wandb --upgrade"
      ],
      "text/plain": [
       "<IPython.core.display.HTML object>"
      ]
     },
     "metadata": {},
     "output_type": "display_data"
    },
    {
     "data": {
      "text/html": [
       "Tracking run with wandb version 0.13.2"
      ],
      "text/plain": [
       "<IPython.core.display.HTML object>"
      ]
     },
     "metadata": {},
     "output_type": "display_data"
    },
    {
     "data": {
      "text/html": [
       "Run data is saved locally in <code>/Users/alexandrutifrea/Projects/gmm_ssl/wandb/run-20230419_221623-2i1b7u64</code>"
      ],
      "text/plain": [
       "<IPython.core.display.HTML object>"
      ]
     },
     "metadata": {},
     "output_type": "display_data"
    },
    {
     "data": {
      "text/html": [
       "Syncing run <strong><a href=\"https://wandb.ai/alext2/ssl_lower_bound/runs/2i1b7u64\" target=\"_blank\">charmed-shadow-29</a></strong> to <a href=\"https://wandb.ai/alext2/ssl_lower_bound\" target=\"_blank\">Weights & Biases</a> (<a href=\"https://wandb.me/run\" target=\"_blank\">docs</a>)<br/>"
      ],
      "text/plain": [
       "<IPython.core.display.HTML object>"
      ]
     },
     "metadata": {},
     "output_type": "display_data"
    },
    {
     "name": "stdout",
     "output_type": "stream",
     "text": [
      "10 0.4294123617172435 0.4294123617172435 0.4804120572414493\n",
      "50 0.3500456713691261 0.3500456713691261 0.4873642545417639\n",
      "100 0.35699786866944083 0.35699786866944083 0.474525525220745\n"
     ]
    },
    {
     "data": {
      "text/html": [
       "Waiting for W&B process to finish... <strong style=\"color:green\">(success).</strong>"
      ],
      "text/plain": [
       "<IPython.core.display.HTML object>"
      ]
     },
     "metadata": {},
     "output_type": "display_data"
    },
    {
     "data": {
      "application/vnd.jupyter.widget-view+json": {
       "model_id": "",
       "version_major": 2,
       "version_minor": 0
      },
      "text/plain": [
       "VBox(children=(Label(value='0.001 MB of 0.001 MB uploaded (0.000 MB deduped)\\r'), FloatProgress(value=1.0, max…"
      ]
     },
     "metadata": {},
     "output_type": "display_data"
    },
    {
     "data": {
      "text/html": [
       "<style>\n",
       "    table.wandb td:nth-child(1) { padding: 0 10px; text-align: left ; width: auto;} td:nth-child(2) {text-align: left ; width: 100%}\n",
       "    .wandb-row { display: flex; flex-direction: row; flex-wrap: wrap; justify-content: flex-start; width: 100% }\n",
       "    .wandb-col { display: flex; flex-direction: column; flex-basis: 100%; flex: 1; padding: 10px; }\n",
       "    </style>\n",
       "<div class=\"wandb-row\"><div class=\"wandb-col\"><h3>Run history:</h3><br/><table class=\"wandb\"><tr><td>best_lambda</td><td>▁▁▁</td></tr><tr><td>n_labeled</td><td>▁▄█</td></tr><tr><td>sl_test_error</td><td>█▁▁</td></tr><tr><td>sl_val_error</td><td>█▁▂</td></tr><tr><td>sl_vs_ssl_gap_test</td><td>▁▁▁</td></tr><tr><td>sl_vs_ssl_gap_val</td><td>▁▁▁</td></tr><tr><td>ssl_test_error</td><td>█▁▁</td></tr><tr><td>ssl_val_error</td><td>█▁▂</td></tr><tr><td>ul_test_error</td><td>▇█▁</td></tr><tr><td>ul_val_error</td><td>▄█▁</td></tr><tr><td>ul_vs_ssl_gap_test</td><td>▁█▆</td></tr><tr><td>ul_vs_ssl_gap_val</td><td>▁█▆</td></tr></table><br/></div><div class=\"wandb-col\"><h3>Run summary:</h3><br/><table class=\"wandb\"><tr><td>best_lambda</td><td>0.0</td></tr><tr><td>n_labeled</td><td>100</td></tr><tr><td>sl_test_error</td><td>0.35588</td></tr><tr><td>sl_val_error</td><td>0.357</td></tr><tr><td>sl_vs_ssl_gap_test</td><td>0.0</td></tr><tr><td>sl_vs_ssl_gap_val</td><td>0.0</td></tr><tr><td>ssl_test_error</td><td>0.35588</td></tr><tr><td>ssl_val_error</td><td>0.357</td></tr><tr><td>ul_test_error</td><td>0.47341</td></tr><tr><td>ul_val_error</td><td>0.47453</td></tr><tr><td>ul_vs_ssl_gap_test</td><td>0.11753</td></tr><tr><td>ul_vs_ssl_gap_val</td><td>0.11753</td></tr></table><br/></div></div>"
      ],
      "text/plain": [
       "<IPython.core.display.HTML object>"
      ]
     },
     "metadata": {},
     "output_type": "display_data"
    },
    {
     "data": {
      "text/html": [
       "Synced <strong style=\"color:#cdcd00\">charmed-shadow-29</strong>: <a href=\"https://wandb.ai/alext2/ssl_lower_bound/runs/2i1b7u64\" target=\"_blank\">https://wandb.ai/alext2/ssl_lower_bound/runs/2i1b7u64</a><br/>Synced 5 W&B file(s), 0 media file(s), 0 artifact file(s) and 0 other file(s)"
      ],
      "text/plain": [
       "<IPython.core.display.HTML object>"
      ]
     },
     "metadata": {},
     "output_type": "display_data"
    },
    {
     "data": {
      "text/html": [
       "Find logs at: <code>./wandb/run-20230419_221623-2i1b7u64/logs</code>"
      ],
      "text/plain": [
       "<IPython.core.display.HTML object>"
      ]
     },
     "metadata": {},
     "output_type": "display_data"
    },
    {
     "data": {
      "text/html": [
       "wandb version 0.14.2 is available!  To upgrade, please run:\n",
       " $ pip install wandb --upgrade"
      ],
      "text/plain": [
       "<IPython.core.display.HTML object>"
      ]
     },
     "metadata": {},
     "output_type": "display_data"
    },
    {
     "data": {
      "text/html": [
       "Tracking run with wandb version 0.13.2"
      ],
      "text/plain": [
       "<IPython.core.display.HTML object>"
      ]
     },
     "metadata": {},
     "output_type": "display_data"
    },
    {
     "data": {
      "text/html": [
       "Run data is saved locally in <code>/Users/alexandrutifrea/Projects/gmm_ssl/wandb/run-20230419_221631-o5yngisx</code>"
      ],
      "text/plain": [
       "<IPython.core.display.HTML object>"
      ]
     },
     "metadata": {},
     "output_type": "display_data"
    },
    {
     "data": {
      "text/html": [
       "Syncing run <strong><a href=\"https://wandb.ai/alext2/ssl_lower_bound/runs/o5yngisx\" target=\"_blank\">comic-forest-30</a></strong> to <a href=\"https://wandb.ai/alext2/ssl_lower_bound\" target=\"_blank\">Weights & Biases</a> (<a href=\"https://wandb.me/run\" target=\"_blank\">docs</a>)<br/>"
      ],
      "text/plain": [
       "<IPython.core.display.HTML object>"
      ]
     },
     "metadata": {},
     "output_type": "display_data"
    },
    {
     "name": "stdout",
     "output_type": "stream",
     "text": [
      "10 0.4143408099056125 0.4143408099056125 0.4934030244595554\n",
      "50 0.34629046990764234 0.34629046990764234 0.44478838932304887\n",
      "100 0.3883081295037044 0.38800365370953005 0.49944179437734704\n"
     ]
    },
    {
     "data": {
      "text/html": [
       "Waiting for W&B process to finish... <strong style=\"color:green\">(success).</strong>"
      ],
      "text/plain": [
       "<IPython.core.display.HTML object>"
      ]
     },
     "metadata": {},
     "output_type": "display_data"
    },
    {
     "data": {
      "application/vnd.jupyter.widget-view+json": {
       "model_id": "",
       "version_major": 2,
       "version_minor": 0
      },
      "text/plain": [
       "VBox(children=(Label(value='0.001 MB of 0.001 MB uploaded (0.000 MB deduped)\\r'), FloatProgress(value=1.0, max…"
      ]
     },
     "metadata": {},
     "output_type": "display_data"
    },
    {
     "data": {
      "text/html": [
       "<style>\n",
       "    table.wandb td:nth-child(1) { padding: 0 10px; text-align: left ; width: auto;} td:nth-child(2) {text-align: left ; width: 100%}\n",
       "    .wandb-row { display: flex; flex-direction: row; flex-wrap: wrap; justify-content: flex-start; width: 100% }\n",
       "    .wandb-col { display: flex; flex-direction: column; flex-basis: 100%; flex: 1; padding: 10px; }\n",
       "    </style>\n",
       "<div class=\"wandb-row\"><div class=\"wandb-col\"><h3>Run history:</h3><br/><table class=\"wandb\"><tr><td>best_lambda</td><td>▁▁█</td></tr><tr><td>n_labeled</td><td>▁▄█</td></tr><tr><td>sl_test_error</td><td>█▁▆</td></tr><tr><td>sl_val_error</td><td>█▁▅</td></tr><tr><td>sl_vs_ssl_gap_test</td><td>██▁</td></tr><tr><td>sl_vs_ssl_gap_val</td><td>▁▁█</td></tr><tr><td>ssl_test_error</td><td>█▁▆</td></tr><tr><td>ssl_val_error</td><td>█▁▅</td></tr><tr><td>ul_test_error</td><td>▇▁█</td></tr><tr><td>ul_val_error</td><td>▇▁█</td></tr><tr><td>ul_vs_ssl_gap_test</td><td>▁▄█</td></tr><tr><td>ul_vs_ssl_gap_val</td><td>▁▅█</td></tr></table><br/></div><div class=\"wandb-col\"><h3>Run summary:</h3><br/><table class=\"wandb\"><tr><td>best_lambda</td><td>0.10526</td></tr><tr><td>n_labeled</td><td>100</td></tr><tr><td>sl_test_error</td><td>0.39013</td></tr><tr><td>sl_val_error</td><td>0.38831</td></tr><tr><td>sl_vs_ssl_gap_test</td><td>-0.00015</td></tr><tr><td>sl_vs_ssl_gap_val</td><td>0.0003</td></tr><tr><td>ssl_test_error</td><td>0.39029</td></tr><tr><td>ssl_val_error</td><td>0.388</td></tr><tr><td>ul_test_error</td><td>0.49873</td></tr><tr><td>ul_val_error</td><td>0.49944</td></tr><tr><td>ul_vs_ssl_gap_test</td><td>0.10844</td></tr><tr><td>ul_vs_ssl_gap_val</td><td>0.11144</td></tr></table><br/></div></div>"
      ],
      "text/plain": [
       "<IPython.core.display.HTML object>"
      ]
     },
     "metadata": {},
     "output_type": "display_data"
    },
    {
     "data": {
      "text/html": [
       "Synced <strong style=\"color:#cdcd00\">comic-forest-30</strong>: <a href=\"https://wandb.ai/alext2/ssl_lower_bound/runs/o5yngisx\" target=\"_blank\">https://wandb.ai/alext2/ssl_lower_bound/runs/o5yngisx</a><br/>Synced 5 W&B file(s), 0 media file(s), 0 artifact file(s) and 0 other file(s)"
      ],
      "text/plain": [
       "<IPython.core.display.HTML object>"
      ]
     },
     "metadata": {},
     "output_type": "display_data"
    },
    {
     "data": {
      "text/html": [
       "Find logs at: <code>./wandb/run-20230419_221631-o5yngisx/logs</code>"
      ],
      "text/plain": [
       "<IPython.core.display.HTML object>"
      ]
     },
     "metadata": {},
     "output_type": "display_data"
    },
    {
     "data": {
      "text/html": [
       "wandb version 0.14.2 is available!  To upgrade, please run:\n",
       " $ pip install wandb --upgrade"
      ],
      "text/plain": [
       "<IPython.core.display.HTML object>"
      ]
     },
     "metadata": {},
     "output_type": "display_data"
    },
    {
     "data": {
      "text/html": [
       "Tracking run with wandb version 0.13.2"
      ],
      "text/plain": [
       "<IPython.core.display.HTML object>"
      ]
     },
     "metadata": {},
     "output_type": "display_data"
    },
    {
     "data": {
      "text/html": [
       "Run data is saved locally in <code>/Users/alexandrutifrea/Projects/gmm_ssl/wandb/run-20230419_221638-3ozwbp3y</code>"
      ],
      "text/plain": [
       "<IPython.core.display.HTML object>"
      ]
     },
     "metadata": {},
     "output_type": "display_data"
    },
    {
     "data": {
      "text/html": [
       "Syncing run <strong><a href=\"https://wandb.ai/alext2/ssl_lower_bound/runs/3ozwbp3y\" target=\"_blank\">quiet-brook-31</a></strong> to <a href=\"https://wandb.ai/alext2/ssl_lower_bound\" target=\"_blank\">Weights & Biases</a> (<a href=\"https://wandb.me/run\" target=\"_blank\">docs</a>)<br/>"
      ],
      "text/plain": [
       "<IPython.core.display.HTML object>"
      ]
     },
     "metadata": {},
     "output_type": "display_data"
    },
    {
     "name": "stdout",
     "output_type": "stream",
     "text": [
      "10 0.43773470009134274 0.43773470009134274 0.4940627220135999\n",
      "50 0.2976758347711357 0.25479549375824617 0.43707500253729825\n",
      "100 0.2623566426469096 0.2610879935045164 0.49517913325890595\n"
     ]
    },
    {
     "data": {
      "text/html": [
       "Waiting for W&B process to finish... <strong style=\"color:green\">(success).</strong>"
      ],
      "text/plain": [
       "<IPython.core.display.HTML object>"
      ]
     },
     "metadata": {},
     "output_type": "display_data"
    },
    {
     "data": {
      "application/vnd.jupyter.widget-view+json": {
       "model_id": "",
       "version_major": 2,
       "version_minor": 0
      },
      "text/plain": [
       "VBox(children=(Label(value='0.001 MB of 0.001 MB uploaded (0.000 MB deduped)\\r'), FloatProgress(value=1.0, max…"
      ]
     },
     "metadata": {},
     "output_type": "display_data"
    },
    {
     "data": {
      "text/html": [
       "<style>\n",
       "    table.wandb td:nth-child(1) { padding: 0 10px; text-align: left ; width: auto;} td:nth-child(2) {text-align: left ; width: 100%}\n",
       "    .wandb-row { display: flex; flex-direction: row; flex-wrap: wrap; justify-content: flex-start; width: 100% }\n",
       "    .wandb-col { display: flex; flex-direction: column; flex-basis: 100%; flex: 1; padding: 10px; }\n",
       "    </style>\n",
       "<div class=\"wandb-row\"><div class=\"wandb-col\"><h3>Run history:</h3><br/><table class=\"wandb\"><tr><td>best_lambda</td><td>▁█▇</td></tr><tr><td>n_labeled</td><td>▁▄█</td></tr><tr><td>sl_test_error</td><td>█▂▁</td></tr><tr><td>sl_val_error</td><td>█▂▁</td></tr><tr><td>sl_vs_ssl_gap_test</td><td>▁█▁</td></tr><tr><td>sl_vs_ssl_gap_val</td><td>▁█▁</td></tr><tr><td>ssl_test_error</td><td>█▁▁</td></tr><tr><td>ssl_val_error</td><td>█▁▁</td></tr><tr><td>ul_test_error</td><td>█▁█</td></tr><tr><td>ul_val_error</td><td>█▁█</td></tr><tr><td>ul_vs_ssl_gap_test</td><td>▁▆█</td></tr><tr><td>ul_vs_ssl_gap_val</td><td>▁▆█</td></tr></table><br/></div><div class=\"wandb-col\"><h3>Run summary:</h3><br/><table class=\"wandb\"><tr><td>best_lambda</td><td>0.68421</td></tr><tr><td>n_labeled</td><td>100</td></tr><tr><td>sl_test_error</td><td>0.26408</td></tr><tr><td>sl_val_error</td><td>0.26236</td></tr><tr><td>sl_vs_ssl_gap_test</td><td>0.00086</td></tr><tr><td>sl_vs_ssl_gap_val</td><td>0.00127</td></tr><tr><td>ssl_test_error</td><td>0.26322</td></tr><tr><td>ssl_val_error</td><td>0.26109</td></tr><tr><td>ul_test_error</td><td>0.49498</td></tr><tr><td>ul_val_error</td><td>0.49518</td></tr><tr><td>ul_vs_ssl_gap_test</td><td>0.23176</td></tr><tr><td>ul_vs_ssl_gap_val</td><td>0.23409</td></tr></table><br/></div></div>"
      ],
      "text/plain": [
       "<IPython.core.display.HTML object>"
      ]
     },
     "metadata": {},
     "output_type": "display_data"
    },
    {
     "data": {
      "text/html": [
       "Synced <strong style=\"color:#cdcd00\">quiet-brook-31</strong>: <a href=\"https://wandb.ai/alext2/ssl_lower_bound/runs/3ozwbp3y\" target=\"_blank\">https://wandb.ai/alext2/ssl_lower_bound/runs/3ozwbp3y</a><br/>Synced 5 W&B file(s), 0 media file(s), 0 artifact file(s) and 0 other file(s)"
      ],
      "text/plain": [
       "<IPython.core.display.HTML object>"
      ]
     },
     "metadata": {},
     "output_type": "display_data"
    },
    {
     "data": {
      "text/html": [
       "Find logs at: <code>./wandb/run-20230419_221638-3ozwbp3y/logs</code>"
      ],
      "text/plain": [
       "<IPython.core.display.HTML object>"
      ]
     },
     "metadata": {},
     "output_type": "display_data"
    },
    {
     "data": {
      "text/html": [
       "wandb version 0.14.2 is available!  To upgrade, please run:\n",
       " $ pip install wandb --upgrade"
      ],
      "text/plain": [
       "<IPython.core.display.HTML object>"
      ]
     },
     "metadata": {},
     "output_type": "display_data"
    },
    {
     "data": {
      "text/html": [
       "Tracking run with wandb version 0.13.2"
      ],
      "text/plain": [
       "<IPython.core.display.HTML object>"
      ]
     },
     "metadata": {},
     "output_type": "display_data"
    },
    {
     "data": {
      "text/html": [
       "Run data is saved locally in <code>/Users/alexandrutifrea/Projects/gmm_ssl/wandb/run-20230419_221646-2vhtegk3</code>"
      ],
      "text/plain": [
       "<IPython.core.display.HTML object>"
      ]
     },
     "metadata": {},
     "output_type": "display_data"
    },
    {
     "data": {
      "text/html": [
       "Syncing run <strong><a href=\"https://wandb.ai/alext2/ssl_lower_bound/runs/2vhtegk3\" target=\"_blank\">distinctive-cloud-32</a></strong> to <a href=\"https://wandb.ai/alext2/ssl_lower_bound\" target=\"_blank\">Weights & Biases</a> (<a href=\"https://wandb.me/run\" target=\"_blank\">docs</a>)<br/>"
      ],
      "text/plain": [
       "<IPython.core.display.HTML object>"
      ]
     },
     "metadata": {},
     "output_type": "display_data"
    },
    {
     "name": "stdout",
     "output_type": "stream",
     "text": [
      "10 0.4151527453567442 0.3270577489089618 0.4186034710240536\n",
      "50 0.3833350248655232 0.32964579315944387 0.48964782299807164\n",
      "100 0.3646605094894956 0.32989952298792247 0.4991880645488683\n"
     ]
    },
    {
     "data": {
      "text/html": [
       "Waiting for W&B process to finish... <strong style=\"color:green\">(success).</strong>"
      ],
      "text/plain": [
       "<IPython.core.display.HTML object>"
      ]
     },
     "metadata": {},
     "output_type": "display_data"
    },
    {
     "data": {
      "application/vnd.jupyter.widget-view+json": {
       "model_id": "",
       "version_major": 2,
       "version_minor": 0
      },
      "text/plain": [
       "VBox(children=(Label(value='0.001 MB of 0.001 MB uploaded (0.000 MB deduped)\\r'), FloatProgress(value=1.0, max…"
      ]
     },
     "metadata": {},
     "output_type": "display_data"
    },
    {
     "data": {
      "text/html": [
       "<style>\n",
       "    table.wandb td:nth-child(1) { padding: 0 10px; text-align: left ; width: auto;} td:nth-child(2) {text-align: left ; width: 100%}\n",
       "    .wandb-row { display: flex; flex-direction: row; flex-wrap: wrap; justify-content: flex-start; width: 100% }\n",
       "    .wandb-col { display: flex; flex-direction: column; flex-basis: 100%; flex: 1; padding: 10px; }\n",
       "    </style>\n",
       "<div class=\"wandb-row\"><div class=\"wandb-col\"><h3>Run history:</h3><br/><table class=\"wandb\"><tr><td>best_lambda</td><td>▁▁█</td></tr><tr><td>n_labeled</td><td>▁▄█</td></tr><tr><td>sl_test_error</td><td>█▃▁</td></tr><tr><td>sl_val_error</td><td>█▄▁</td></tr><tr><td>sl_vs_ssl_gap_test</td><td>█▄▁</td></tr><tr><td>sl_vs_ssl_gap_val</td><td>█▃▁</td></tr><tr><td>ssl_test_error</td><td>▅▁█</td></tr><tr><td>ssl_val_error</td><td>▁▇█</td></tr><tr><td>ul_test_error</td><td>▁▇█</td></tr><tr><td>ul_val_error</td><td>▁▇█</td></tr><tr><td>ul_vs_ssl_gap_test</td><td>▁██</td></tr><tr><td>ul_vs_ssl_gap_val</td><td>▁▇█</td></tr></table><br/></div><div class=\"wandb-col\"><h3>Run summary:</h3><br/><table class=\"wandb\"><tr><td>best_lambda</td><td>0.89474</td></tr><tr><td>n_labeled</td><td>100</td></tr><tr><td>sl_test_error</td><td>0.3569</td></tr><tr><td>sl_val_error</td><td>0.36466</td></tr><tr><td>sl_vs_ssl_gap_test</td><td>0.02669</td></tr><tr><td>sl_vs_ssl_gap_val</td><td>0.03476</td></tr><tr><td>ssl_test_error</td><td>0.3302</td></tr><tr><td>ssl_val_error</td><td>0.3299</td></tr><tr><td>ul_test_error</td><td>0.50152</td></tr><tr><td>ul_val_error</td><td>0.49919</td></tr><tr><td>ul_vs_ssl_gap_test</td><td>0.17132</td></tr><tr><td>ul_vs_ssl_gap_val</td><td>0.16929</td></tr></table><br/></div></div>"
      ],
      "text/plain": [
       "<IPython.core.display.HTML object>"
      ]
     },
     "metadata": {},
     "output_type": "display_data"
    },
    {
     "data": {
      "text/html": [
       "Synced <strong style=\"color:#cdcd00\">distinctive-cloud-32</strong>: <a href=\"https://wandb.ai/alext2/ssl_lower_bound/runs/2vhtegk3\" target=\"_blank\">https://wandb.ai/alext2/ssl_lower_bound/runs/2vhtegk3</a><br/>Synced 5 W&B file(s), 0 media file(s), 0 artifact file(s) and 0 other file(s)"
      ],
      "text/plain": [
       "<IPython.core.display.HTML object>"
      ]
     },
     "metadata": {},
     "output_type": "display_data"
    },
    {
     "data": {
      "text/html": [
       "Find logs at: <code>./wandb/run-20230419_221646-2vhtegk3/logs</code>"
      ],
      "text/plain": [
       "<IPython.core.display.HTML object>"
      ]
     },
     "metadata": {},
     "output_type": "display_data"
    },
    {
     "data": {
      "text/html": [
       "wandb version 0.14.2 is available!  To upgrade, please run:\n",
       " $ pip install wandb --upgrade"
      ],
      "text/plain": [
       "<IPython.core.display.HTML object>"
      ]
     },
     "metadata": {},
     "output_type": "display_data"
    },
    {
     "data": {
      "text/html": [
       "Tracking run with wandb version 0.13.2"
      ],
      "text/plain": [
       "<IPython.core.display.HTML object>"
      ]
     },
     "metadata": {},
     "output_type": "display_data"
    },
    {
     "data": {
      "text/html": [
       "Run data is saved locally in <code>/Users/alexandrutifrea/Projects/gmm_ssl/wandb/run-20230419_221654-tmbdbuud</code>"
      ],
      "text/plain": [
       "<IPython.core.display.HTML object>"
      ]
     },
     "metadata": {},
     "output_type": "display_data"
    },
    {
     "data": {
      "text/html": [
       "Syncing run <strong><a href=\"https://wandb.ai/alext2/ssl_lower_bound/runs/tmbdbuud\" target=\"_blank\">morning-firebrand-33</a></strong> to <a href=\"https://wandb.ai/alext2/ssl_lower_bound\" target=\"_blank\">Weights & Biases</a> (<a href=\"https://wandb.me/run\" target=\"_blank\">docs</a>)<br/>"
      ],
      "text/plain": [
       "<IPython.core.display.HTML object>"
      ]
     },
     "metadata": {},
     "output_type": "display_data"
    },
    {
     "name": "stdout",
     "output_type": "stream",
     "text": [
      "10 0.3637470821069725 0.36263067086166645 0.43798842991982134\n",
      "50 0.36958286816198116 0.33801887749923876 0.4973104638181265\n",
      "100 0.2887952907743835 0.2885415609459048 0.4704658479650867\n"
     ]
    },
    {
     "data": {
      "text/html": [
       "Waiting for W&B process to finish... <strong style=\"color:green\">(success).</strong>"
      ],
      "text/plain": [
       "<IPython.core.display.HTML object>"
      ]
     },
     "metadata": {},
     "output_type": "display_data"
    },
    {
     "data": {
      "application/vnd.jupyter.widget-view+json": {
       "model_id": "",
       "version_major": 2,
       "version_minor": 0
      },
      "text/plain": [
       "VBox(children=(Label(value='0.001 MB of 0.001 MB uploaded (0.000 MB deduped)\\r'), FloatProgress(value=1.0, max…"
      ]
     },
     "metadata": {},
     "output_type": "display_data"
    },
    {
     "data": {
      "text/html": [
       "<style>\n",
       "    table.wandb td:nth-child(1) { padding: 0 10px; text-align: left ; width: auto;} td:nth-child(2) {text-align: left ; width: 100%}\n",
       "    .wandb-row { display: flex; flex-direction: row; flex-wrap: wrap; justify-content: flex-start; width: 100% }\n",
       "    .wandb-col { display: flex; flex-direction: column; flex-basis: 100%; flex: 1; padding: 10px; }\n",
       "    </style>\n",
       "<div class=\"wandb-row\"><div class=\"wandb-col\"><h3>Run history:</h3><br/><table class=\"wandb\"><tr><td>best_lambda</td><td>▂█▁</td></tr><tr><td>n_labeled</td><td>▁▄█</td></tr><tr><td>sl_test_error</td><td>██▁</td></tr><tr><td>sl_val_error</td><td>▇█▁</td></tr><tr><td>sl_vs_ssl_gap_test</td><td>▂█▁</td></tr><tr><td>sl_vs_ssl_gap_val</td><td>▁█▁</td></tr><tr><td>ssl_test_error</td><td>█▆▁</td></tr><tr><td>ssl_val_error</td><td>█▆▁</td></tr><tr><td>ul_test_error</td><td>▁█▅</td></tr><tr><td>ul_val_error</td><td>▁█▅</td></tr><tr><td>ul_vs_ssl_gap_test</td><td>▁▆█</td></tr><tr><td>ul_vs_ssl_gap_val</td><td>▁▇█</td></tr></table><br/></div><div class=\"wandb-col\"><h3>Run summary:</h3><br/><table class=\"wandb\"><tr><td>best_lambda</td><td>0.31579</td></tr><tr><td>n_labeled</td><td>100</td></tr><tr><td>sl_test_error</td><td>0.28504</td></tr><tr><td>sl_val_error</td><td>0.2888</td></tr><tr><td>sl_vs_ssl_gap_test</td><td>-0.0001</td></tr><tr><td>sl_vs_ssl_gap_val</td><td>0.00025</td></tr><tr><td>ssl_test_error</td><td>0.28514</td></tr><tr><td>ssl_val_error</td><td>0.28854</td></tr><tr><td>ul_test_error</td><td>0.47077</td></tr><tr><td>ul_val_error</td><td>0.47047</td></tr><tr><td>ul_vs_ssl_gap_test</td><td>0.18563</td></tr><tr><td>ul_vs_ssl_gap_val</td><td>0.18192</td></tr></table><br/></div></div>"
      ],
      "text/plain": [
       "<IPython.core.display.HTML object>"
      ]
     },
     "metadata": {},
     "output_type": "display_data"
    },
    {
     "data": {
      "text/html": [
       "Synced <strong style=\"color:#cdcd00\">morning-firebrand-33</strong>: <a href=\"https://wandb.ai/alext2/ssl_lower_bound/runs/tmbdbuud\" target=\"_blank\">https://wandb.ai/alext2/ssl_lower_bound/runs/tmbdbuud</a><br/>Synced 5 W&B file(s), 0 media file(s), 0 artifact file(s) and 0 other file(s)"
      ],
      "text/plain": [
       "<IPython.core.display.HTML object>"
      ]
     },
     "metadata": {},
     "output_type": "display_data"
    },
    {
     "data": {
      "text/html": [
       "Find logs at: <code>./wandb/run-20230419_221654-tmbdbuud/logs</code>"
      ],
      "text/plain": [
       "<IPython.core.display.HTML object>"
      ]
     },
     "metadata": {},
     "output_type": "display_data"
    }
   ],
   "source": [
    "n_unlabelled = 1000\n",
    "n_repetition = 10\n",
    "\n",
    "for n_rep in range(n_repetition):\n",
    "    params = {\n",
    "            \"n_labeled\": n_labelled,\n",
    "            \"n_unlabeled\": n_unlabelled,\n",
    "            \"n_repetition\": n_repetition,\n",
    "            \"dataset\": id_or_name,\n",
    "            \"is_balanced\": True,\n",
    "            \"n_train\": data[0].shape[0],\n",
    "            \"n_val\": data[2].shape[0],\n",
    "            \"n_test\": data[4].shape[0],\n",
    "            \"d\": data[0].shape[1],\n",
    "            \"log_file\": \"TODOTODO\",\n",
    "            \"run_idx\": n_rep,\n",
    "        }\n",
    "    run = init_wandb_fn(params)   \n",
    "\n",
    "    x_trans, y_subset = scaler.fit_transform(data[0]), data[1]\n",
    "    x_trans, y_subset = shuffle_data(x_trans, y_subset, seed=n_rep, enforce_constraint_on=n_labelled)\n",
    "\n",
    "    for n_labelled in [10, 50, 100]:\n",
    "        x_labelled=x_trans[0:n_labelled]\n",
    "        x_unlabelled=x_trans[n_labelled:n_labelled+n_unlabelled]\n",
    "        y=y_subset[0:n_labelled]\n",
    "\n",
    "        x_test, y_test = data[2], data[3]\n",
    "        x_val, y_val = data[4], data[5]\n",
    "\n",
    "        clf_sl=get_sup_estimator(x_labelled, y)\n",
    "        clf_em=get_unsup_estimator(x_unlabelled, x_val, y_val)\n",
    "\n",
    "        sl_error_val=1-clf_sl.score(x_val, y_val)\n",
    "        ul_error_val=1-clf_em.score(x_val, y_val)\n",
    "\n",
    "        sl_error_test=1-clf_sl.score(x_test, y_test)\n",
    "        ul_error_test=1-clf_em.score(x_test, y_test)\n",
    "\n",
    "        score_arr=[]\n",
    "        all_lambdas = np.linspace(0,1,20)\n",
    "        for lambda_ in all_lambdas:\n",
    "            clf_ssl=get_ssl_estimator(clf_sl, clf_em, lambda_)\n",
    "            score_arr.append(clf_ssl.score(x_val, y_val))\n",
    "        best_lambda = all_lambdas[np.argmax(score_arr)]\n",
    "        best_clf_ssl=get_ssl_estimator(clf_sl, clf_em, best_lambda)\n",
    "\n",
    "        ssl_error_val=1-best_clf_ssl.score(x_val, y_val)\n",
    "        ssl_error_test=1-best_clf_ssl.score(x_test, y_test)  \n",
    "\n",
    "        metrics = {\n",
    "            \"sl_val_error\": sl_error_val,\n",
    "            \"ssl_val_error\": ssl_error_val,\n",
    "            \"ul_val_error\": ul_error_val,\n",
    "            \"sl_test_error\": sl_error_test,\n",
    "            \"ssl_test_error\": ssl_error_test,\n",
    "            \"ul_test_error\": ul_error_test,\n",
    "            \"sl_vs_ssl_gap_test\": sl_error_test - ssl_error_test,\n",
    "            \"sl_vs_ssl_gap_val\": sl_error_val - ssl_error_val,\n",
    "            \"ul_vs_ssl_gap_val\": ul_error_val - ssl_error_val,\n",
    "            \"ul_vs_ssl_gap_test\": ul_error_test - ssl_error_test,\n",
    "            \"best_lambda\": best_lambda,\n",
    "        }\n",
    "        wandb.log(metrics, commit=False)\n",
    "        wandb.log({\"n_labeled\": n_labelled})\n",
    "        \n",
    "        print(n_labelled, sl_error_val, ssl_error_val, ul_error_val)\n",
    "\n",
    "    run.finish()"
   ]
  },
  {
   "cell_type": "code",
   "execution_count": 218,
   "metadata": {},
   "outputs": [
    {
     "data": {
      "text/plain": [
       "Text(0, 0.5, 'Accuracy')"
      ]
     },
     "execution_count": 218,
     "metadata": {},
     "output_type": "execute_result"
    },
    {
     "data": {
      "image/png": "[encoded data removed]",
      "text/plain": [
       "<Figure size 720x720 with 1 Axes>"
      ]
     },
     "metadata": {
      "needs_background": "light"
     },
     "output_type": "display_data"
    }
   ],
   "source": [
    "n_labelled=50000\n",
    "n_unlabelled=100\n",
    "\n",
    "x_trans, y_subset = scaler.fit_transform(data[0]), data[1]\n",
    "x_trans, y_subset = shuffle_data(x_trans, y_subset, seed=0, enforce_constraint_on=n_labelled)\n",
    "\n",
    "x_labelled=x_trans[0:n_labelled]\n",
    "x_unlabelled=x_trans[n_labelled:n_labelled+n_unlabelled]\n",
    "y=y_subset[0:n_labelled]\n",
    "\n",
    "x_test=x_trans[n_labelled+n_unlabelled:]\n",
    "y_test=y_subset[n_labelled+n_unlabelled:]\n",
    "\n",
    "\n",
    "\n",
    "plt.figure(figsize=(10,10))\n",
    "clf_sl=get_sup_estimator(x_labelled, y)\n",
    "clf_em=get_unsup_estimator(x_unlabelled, x_val, y_val)\n",
    "\n",
    "sl_score=clf_sl.score(x_val, y_val)\n",
    "ul_score=clf_em.score(x_val, y_val)\n",
    "\n",
    "score_arr=[]\n",
    "for lambda_ in np.linspace(0,1,20):\n",
    "    clf_ssl=get_ssl_estimator(clf_sl, clf_em, lambda_)\n",
    "    score_arr.append(clf_ssl.score(x_val, y_val))\n",
    "\n",
    "plt.plot(np.linspace(0,1,20), score_arr, label='SSL')\n",
    "plt.axhline(sl_score, label='SL', color='r', linestyle='-.',)\n",
    "plt.axhline(ul_score, label='UL', linestyle='-.', color='g')\n",
    "plt.legend(fontsize=22)\n",
    "plt.xlabel('$\\lambda$', fontsize=22)\n",
    "plt.ylabel('Accuracy', fontsize=22)"
   ]
  },
  {
   "cell_type": "code",
   "execution_count": 17,
   "metadata": {},
   "outputs": [],
   "source": [
    "from tqdm import tqdm\n",
    "def get_best_lambda(clf_sl, clf_em, x_test, y_test):    \n",
    "    score_arr=[]\n",
    "    best_lambda=0\n",
    "    best_score=0\n",
    "    for lambda_ in np.linspace(0,1,100):\n",
    "        clf_ssl=get_ssl_estimator(clf_sl, clf_em, lambda_)\n",
    "        score_curr = clf_ssl.score(x_test, y_test)\n",
    "        if score_curr > best_score:\n",
    "            best_lambda=lambda_\n",
    "            best_score = score_curr\n",
    "    return best_lambda, best_score"
   ]
  },
  {
   "cell_type": "code",
   "execution_count": 18,
   "metadata": {},
   "outputs": [],
   "source": [
    "from sklearn.decomposition import PCA\n",
    "from sklearn import preprocessing\n",
    "import numpy as np\n",
    "from sklearn.datasets import fetch_openml\n",
    "\n",
    "\n",
    "def get_classes(x,y, class1=2, class2=3):\n",
    "    scaler = preprocessing.StandardScaler()\n",
    "    # class1=2\n",
    "    # class2=3\n",
    "    pca=PCA(n_components=2)\n",
    "    x_subset=np.concatenate((x[y==class1],x[y==class2]) )\n",
    "    x_scaled=scaler.fit_transform(x_subset)\n",
    "    x_trans=pca.fit_transform(x_scaled)\n",
    "    y_subset=np.concatenate((y[y==class1], y[y==class2]))\n",
    "    perm_idx=np.random.permutation(len(x_trans))\n",
    "    x_trans=x_trans[perm_idx]\n",
    "    y_subset=y_subset[perm_idx]\n",
    "    return x_trans, y_subset\n",
    "\n",
    "\n"
   ]
  },
  {
   "cell_type": "code",
   "execution_count": 19,
   "metadata": {
    "id": "cbpr6cQMQOLz"
   },
   "outputs": [
    {
     "data": {
      "text/plain": [
       "Text(0, 0.5, '$\\\\lambda$')"
      ]
     },
     "execution_count": 19,
     "metadata": {},
     "output_type": "execute_result"
    },
    {
     "data": {
      "image/png": "[encoded data removed]",
      "text/plain": [
       "<Figure size 720x720 with 2 Axes>"
      ]
     },
     "metadata": {
      "needs_background": "light"
     },
     "output_type": "display_data"
    }
   ],
   "source": [
    "\n",
    "fig,ax=plt.subplots(2,1,figsize=(10,10))\n",
    "n_labelled_arr=[10]#np.arange(4,20, 2)\n",
    "n_unlabelled_arr=[2000]\n",
    "\n",
    "\n",
    "x_test=x_trans[n_labelled_arr[-1]+n_unlabelled_arr[-1]:]\n",
    "y_test=y_subset[n_labelled_arr[-1]+n_unlabelled_arr[-1]:]\n",
    "\n",
    "ssl_arr=[]\n",
    "lambda_arr=[]\n",
    "sl_arr=[]\n",
    "ul_arr=[]\n",
    "for n_labelled in n_labelled_arr:\n",
    "    for n_unlabelled in n_unlabelled_arr:\n",
    "        x_labelled=x_trans[0:n_labelled]\n",
    "        x_unlabelled=x_trans[n_labelled:n_labelled+n_unlabelled]\n",
    "        y=y_subset[0:n_labelled]\n",
    "\n",
    "\n",
    "\n",
    "        clf_sl=get_sup_estimator(x_labelled, y)\n",
    "        clf_em=get_unsup_estimator(x_unlabelled, x_test, y_test)\n",
    "        sl_score=clf_sl.score(x_test, y_test)\n",
    "        ul_score=clf_em.score(x_test, y_test)\n",
    "        best_lambda, ssl_score = get_best_lambda(clf_sl, clf_em, x_test, y_test)\n",
    "        ssl_arr.append(ssl_score)\n",
    "        lambda_arr.append(best_lambda)\n",
    "        sl_arr.append(sl_score)\n",
    "        ul_arr.append(ul_score)\n",
    "        \n",
    "        \n",
    "ax[0].plot(n_labelled_arr, ssl_arr, label='SSL')\n",
    "ax[0].plot(n_labelled_arr, sl_arr, label='SL', color='r', linestyle='-.',)\n",
    "ax[0].plot(n_labelled_arr, ul_arr, label='UL', linestyle='-.', color='g')\n",
    "ax[0].legend(fontsize=22)\n",
    "ax[0].set_xlabel('Num labelled', fontsize=22)\n",
    "ax[0].set_ylabel('Accuracy', fontsize=22)\n",
    "\n",
    "ax[1].plot(n_labelled_arr, lambda_arr, linestyle='-', color='k')\n",
    "ax[1].set_xlabel('Num labelled', fontsize=22)\n",
    "ax[1].set_ylabel('$\\lambda$', fontsize=22)\n",
    "\n"
   ]
  },
  {
   "cell_type": "code",
   "execution_count": 21,
   "metadata": {},
   "outputs": [],
   "source": [
    "# mnist = fetch_openml('mnist_784')\n",
    "data = openml.datasets.get_dataset('mnist_784')\n",
    "x_all, y_all, _, _ = data.get_data(target=data.default_target_attribute)\n",
    "# x_all = mnist.data.to_numpy()\n",
    "# y_all = mnist.target.to_numpy(dtype='int')"
   ]
  },
  {
   "cell_type": "code",
   "execution_count": 22,
   "metadata": {},
   "outputs": [
    {
     "name": "stdout",
     "output_type": "stream",
     "text": [
      "(70000, 784) (70000,)\n"
     ]
    }
   ],
   "source": [
    "print(x_all.shape,y_all.shape)"
   ]
  },
  {
   "cell_type": "code",
   "execution_count": 25,
   "metadata": {
    "scrolled": true
   },
   "outputs": [
    {
     "name": "stderr",
     "output_type": "stream",
     "text": [
      "  0%|                                                                          | 0/5 [00:00<?, ?it/s]\n"
     ]
    },
    {
     "ename": "ValueError",
     "evalue": "Found array with 0 sample(s) (shape=(0, 784)) while a minimum of 1 is required by StandardScaler.",
     "output_type": "error",
     "traceback": [
      "\u001b[0;31m---------------------------------------------------------------------------\u001b[0m",
      "\u001b[0;31mValueError\u001b[0m                                Traceback (most recent call last)",
      "Input \u001b[0;32mIn [25]\u001b[0m, in \u001b[0;36m<cell line: 14>\u001b[0;34m()\u001b[0m\n\u001b[1;32m     23\u001b[0m \u001b[38;5;28;01mfor\u001b[39;00m class2 \u001b[38;5;129;01min\u001b[39;00m \u001b[38;5;28mrange\u001b[39m(class1\u001b[38;5;241m+\u001b[39m\u001b[38;5;241m1\u001b[39m, \u001b[38;5;241m10\u001b[39m):\n\u001b[1;32m     24\u001b[0m     \u001b[38;5;28;01mwhile\u001b[39;00m \u001b[38;5;28;01mTrue\u001b[39;00m:\n\u001b[0;32m---> 25\u001b[0m         x_trans,y_subset\u001b[38;5;241m=\u001b[39m \u001b[43mget_classes\u001b[49m\u001b[43m(\u001b[49m\u001b[43mx_all\u001b[49m\u001b[43m,\u001b[49m\u001b[43my_all\u001b[49m\u001b[43m,\u001b[49m\u001b[43m \u001b[49m\u001b[43mclass1\u001b[49m\u001b[38;5;241;43m=\u001b[39;49m\u001b[43mclass1\u001b[49m\u001b[43m,\u001b[49m\u001b[43m \u001b[49m\u001b[43mclass2\u001b[49m\u001b[38;5;241;43m=\u001b[39;49m\u001b[43mclass2\u001b[49m\u001b[43m)\u001b[49m\n\u001b[1;32m     27\u001b[0m         x_labelled\u001b[38;5;241m=\u001b[39mx_trans[\u001b[38;5;241m0\u001b[39m:n_labelled]\n\u001b[1;32m     28\u001b[0m         x_unlabelled\u001b[38;5;241m=\u001b[39mx_trans[n_labelled:n_labelled\u001b[38;5;241m+\u001b[39mn_unlabelled]\n",
      "Input \u001b[0;32mIn [18]\u001b[0m, in \u001b[0;36mget_classes\u001b[0;34m(x, y, class1, class2)\u001b[0m\n\u001b[1;32m     11\u001b[0m pca\u001b[38;5;241m=\u001b[39mPCA(n_components\u001b[38;5;241m=\u001b[39m\u001b[38;5;241m2\u001b[39m)\n\u001b[1;32m     12\u001b[0m x_subset\u001b[38;5;241m=\u001b[39mnp\u001b[38;5;241m.\u001b[39mconcatenate((x[y\u001b[38;5;241m==\u001b[39mclass1],x[y\u001b[38;5;241m==\u001b[39mclass2]) )\n\u001b[0;32m---> 13\u001b[0m x_scaled\u001b[38;5;241m=\u001b[39m\u001b[43mscaler\u001b[49m\u001b[38;5;241;43m.\u001b[39;49m\u001b[43mfit_transform\u001b[49m\u001b[43m(\u001b[49m\u001b[43mx_subset\u001b[49m\u001b[43m)\u001b[49m\n\u001b[1;32m     14\u001b[0m x_trans\u001b[38;5;241m=\u001b[39mpca\u001b[38;5;241m.\u001b[39mfit_transform(x_scaled)\n\u001b[1;32m     15\u001b[0m y_subset\u001b[38;5;241m=\u001b[39mnp\u001b[38;5;241m.\u001b[39mconcatenate((y[y\u001b[38;5;241m==\u001b[39mclass1], y[y\u001b[38;5;241m==\u001b[39mclass2]))\n",
      "File \u001b[0;32m/usr/local/lib/python3.9/site-packages/sklearn/base.py:867\u001b[0m, in \u001b[0;36mTransformerMixin.fit_transform\u001b[0;34m(self, X, y, **fit_params)\u001b[0m\n\u001b[1;32m    863\u001b[0m \u001b[38;5;66;03m# non-optimized default implementation; override when a better\u001b[39;00m\n\u001b[1;32m    864\u001b[0m \u001b[38;5;66;03m# method is possible for a given clustering algorithm\u001b[39;00m\n\u001b[1;32m    865\u001b[0m \u001b[38;5;28;01mif\u001b[39;00m y \u001b[38;5;129;01mis\u001b[39;00m \u001b[38;5;28;01mNone\u001b[39;00m:\n\u001b[1;32m    866\u001b[0m     \u001b[38;5;66;03m# fit method of arity 1 (unsupervised transformation)\u001b[39;00m\n\u001b[0;32m--> 867\u001b[0m     \u001b[38;5;28;01mreturn\u001b[39;00m \u001b[38;5;28;43mself\u001b[39;49m\u001b[38;5;241;43m.\u001b[39;49m\u001b[43mfit\u001b[49m\u001b[43m(\u001b[49m\u001b[43mX\u001b[49m\u001b[43m,\u001b[49m\u001b[43m \u001b[49m\u001b[38;5;241;43m*\u001b[39;49m\u001b[38;5;241;43m*\u001b[39;49m\u001b[43mfit_params\u001b[49m\u001b[43m)\u001b[49m\u001b[38;5;241m.\u001b[39mtransform(X)\n\u001b[1;32m    868\u001b[0m \u001b[38;5;28;01melse\u001b[39;00m:\n\u001b[1;32m    869\u001b[0m     \u001b[38;5;66;03m# fit method of arity 2 (supervised transformation)\u001b[39;00m\n\u001b[1;32m    870\u001b[0m     \u001b[38;5;28;01mreturn\u001b[39;00m \u001b[38;5;28mself\u001b[39m\u001b[38;5;241m.\u001b[39mfit(X, y, \u001b[38;5;241m*\u001b[39m\u001b[38;5;241m*\u001b[39mfit_params)\u001b[38;5;241m.\u001b[39mtransform(X)\n",
      "File \u001b[0;32m/usr/local/lib/python3.9/site-packages/sklearn/preprocessing/_data.py:809\u001b[0m, in \u001b[0;36mStandardScaler.fit\u001b[0;34m(self, X, y, sample_weight)\u001b[0m\n\u001b[1;32m    807\u001b[0m \u001b[38;5;66;03m# Reset internal state before fitting\u001b[39;00m\n\u001b[1;32m    808\u001b[0m \u001b[38;5;28mself\u001b[39m\u001b[38;5;241m.\u001b[39m_reset()\n\u001b[0;32m--> 809\u001b[0m \u001b[38;5;28;01mreturn\u001b[39;00m \u001b[38;5;28;43mself\u001b[39;49m\u001b[38;5;241;43m.\u001b[39;49m\u001b[43mpartial_fit\u001b[49m\u001b[43m(\u001b[49m\u001b[43mX\u001b[49m\u001b[43m,\u001b[49m\u001b[43m \u001b[49m\u001b[43my\u001b[49m\u001b[43m,\u001b[49m\u001b[43m \u001b[49m\u001b[43msample_weight\u001b[49m\u001b[43m)\u001b[49m\n",
      "File \u001b[0;32m/usr/local/lib/python3.9/site-packages/sklearn/preprocessing/_data.py:844\u001b[0m, in \u001b[0;36mStandardScaler.partial_fit\u001b[0;34m(self, X, y, sample_weight)\u001b[0m\n\u001b[1;32m    812\u001b[0m \u001b[38;5;124;03m\"\"\"Online computation of mean and std on X for later scaling.\u001b[39;00m\n\u001b[1;32m    813\u001b[0m \n\u001b[1;32m    814\u001b[0m \u001b[38;5;124;03mAll of X is processed as a single batch. This is intended for cases\u001b[39;00m\n\u001b[0;32m   (...)\u001b[0m\n\u001b[1;32m    841\u001b[0m \u001b[38;5;124;03m    Fitted scaler.\u001b[39;00m\n\u001b[1;32m    842\u001b[0m \u001b[38;5;124;03m\"\"\"\u001b[39;00m\n\u001b[1;32m    843\u001b[0m first_call \u001b[38;5;241m=\u001b[39m \u001b[38;5;129;01mnot\u001b[39;00m \u001b[38;5;28mhasattr\u001b[39m(\u001b[38;5;28mself\u001b[39m, \u001b[38;5;124m\"\u001b[39m\u001b[38;5;124mn_samples_seen_\u001b[39m\u001b[38;5;124m\"\u001b[39m)\n\u001b[0;32m--> 844\u001b[0m X \u001b[38;5;241m=\u001b[39m \u001b[38;5;28;43mself\u001b[39;49m\u001b[38;5;241;43m.\u001b[39;49m\u001b[43m_validate_data\u001b[49m\u001b[43m(\u001b[49m\n\u001b[1;32m    845\u001b[0m \u001b[43m    \u001b[49m\u001b[43mX\u001b[49m\u001b[43m,\u001b[49m\n\u001b[1;32m    846\u001b[0m \u001b[43m    \u001b[49m\u001b[43maccept_sparse\u001b[49m\u001b[38;5;241;43m=\u001b[39;49m\u001b[43m(\u001b[49m\u001b[38;5;124;43m\"\u001b[39;49m\u001b[38;5;124;43mcsr\u001b[39;49m\u001b[38;5;124;43m\"\u001b[39;49m\u001b[43m,\u001b[49m\u001b[43m \u001b[49m\u001b[38;5;124;43m\"\u001b[39;49m\u001b[38;5;124;43mcsc\u001b[39;49m\u001b[38;5;124;43m\"\u001b[39;49m\u001b[43m)\u001b[49m\u001b[43m,\u001b[49m\n\u001b[1;32m    847\u001b[0m \u001b[43m    \u001b[49m\u001b[43mdtype\u001b[49m\u001b[38;5;241;43m=\u001b[39;49m\u001b[43mFLOAT_DTYPES\u001b[49m\u001b[43m,\u001b[49m\n\u001b[1;32m    848\u001b[0m \u001b[43m    \u001b[49m\u001b[43mforce_all_finite\u001b[49m\u001b[38;5;241;43m=\u001b[39;49m\u001b[38;5;124;43m\"\u001b[39;49m\u001b[38;5;124;43mallow-nan\u001b[39;49m\u001b[38;5;124;43m\"\u001b[39;49m\u001b[43m,\u001b[49m\n\u001b[1;32m    849\u001b[0m \u001b[43m    \u001b[49m\u001b[43mreset\u001b[49m\u001b[38;5;241;43m=\u001b[39;49m\u001b[43mfirst_call\u001b[49m\u001b[43m,\u001b[49m\n\u001b[1;32m    850\u001b[0m \u001b[43m\u001b[49m\u001b[43m)\u001b[49m\n\u001b[1;32m    851\u001b[0m n_features \u001b[38;5;241m=\u001b[39m X\u001b[38;5;241m.\u001b[39mshape[\u001b[38;5;241m1\u001b[39m]\n\u001b[1;32m    853\u001b[0m \u001b[38;5;28;01mif\u001b[39;00m sample_weight \u001b[38;5;129;01mis\u001b[39;00m \u001b[38;5;129;01mnot\u001b[39;00m \u001b[38;5;28;01mNone\u001b[39;00m:\n",
      "File \u001b[0;32m/usr/local/lib/python3.9/site-packages/sklearn/base.py:577\u001b[0m, in \u001b[0;36mBaseEstimator._validate_data\u001b[0;34m(self, X, y, reset, validate_separately, **check_params)\u001b[0m\n\u001b[1;32m    575\u001b[0m     \u001b[38;5;28;01mraise\u001b[39;00m \u001b[38;5;167;01mValueError\u001b[39;00m(\u001b[38;5;124m\"\u001b[39m\u001b[38;5;124mValidation should be done on X, y or both.\u001b[39m\u001b[38;5;124m\"\u001b[39m)\n\u001b[1;32m    576\u001b[0m \u001b[38;5;28;01melif\u001b[39;00m \u001b[38;5;129;01mnot\u001b[39;00m no_val_X \u001b[38;5;129;01mand\u001b[39;00m no_val_y:\n\u001b[0;32m--> 577\u001b[0m     X \u001b[38;5;241m=\u001b[39m \u001b[43mcheck_array\u001b[49m\u001b[43m(\u001b[49m\u001b[43mX\u001b[49m\u001b[43m,\u001b[49m\u001b[43m \u001b[49m\u001b[43minput_name\u001b[49m\u001b[38;5;241;43m=\u001b[39;49m\u001b[38;5;124;43m\"\u001b[39;49m\u001b[38;5;124;43mX\u001b[39;49m\u001b[38;5;124;43m\"\u001b[39;49m\u001b[43m,\u001b[49m\u001b[43m \u001b[49m\u001b[38;5;241;43m*\u001b[39;49m\u001b[38;5;241;43m*\u001b[39;49m\u001b[43mcheck_params\u001b[49m\u001b[43m)\u001b[49m\n\u001b[1;32m    578\u001b[0m     out \u001b[38;5;241m=\u001b[39m X\n\u001b[1;32m    579\u001b[0m \u001b[38;5;28;01melif\u001b[39;00m no_val_X \u001b[38;5;129;01mand\u001b[39;00m \u001b[38;5;129;01mnot\u001b[39;00m no_val_y:\n",
      "File \u001b[0;32m/usr/local/lib/python3.9/site-packages/sklearn/utils/validation.py:909\u001b[0m, in \u001b[0;36mcheck_array\u001b[0;34m(array, accept_sparse, accept_large_sparse, dtype, order, copy, force_all_finite, ensure_2d, allow_nd, ensure_min_samples, ensure_min_features, estimator, input_name)\u001b[0m\n\u001b[1;32m    907\u001b[0m     n_samples \u001b[38;5;241m=\u001b[39m _num_samples(array)\n\u001b[1;32m    908\u001b[0m     \u001b[38;5;28;01mif\u001b[39;00m n_samples \u001b[38;5;241m<\u001b[39m ensure_min_samples:\n\u001b[0;32m--> 909\u001b[0m         \u001b[38;5;28;01mraise\u001b[39;00m \u001b[38;5;167;01mValueError\u001b[39;00m(\n\u001b[1;32m    910\u001b[0m             \u001b[38;5;124m\"\u001b[39m\u001b[38;5;124mFound array with \u001b[39m\u001b[38;5;132;01m%d\u001b[39;00m\u001b[38;5;124m sample(s) (shape=\u001b[39m\u001b[38;5;132;01m%s\u001b[39;00m\u001b[38;5;124m) while a\u001b[39m\u001b[38;5;124m\"\u001b[39m\n\u001b[1;32m    911\u001b[0m             \u001b[38;5;124m\"\u001b[39m\u001b[38;5;124m minimum of \u001b[39m\u001b[38;5;132;01m%d\u001b[39;00m\u001b[38;5;124m is required\u001b[39m\u001b[38;5;132;01m%s\u001b[39;00m\u001b[38;5;124m.\u001b[39m\u001b[38;5;124m\"\u001b[39m\n\u001b[1;32m    912\u001b[0m             \u001b[38;5;241m%\u001b[39m (n_samples, array\u001b[38;5;241m.\u001b[39mshape, ensure_min_samples, context)\n\u001b[1;32m    913\u001b[0m         )\n\u001b[1;32m    915\u001b[0m \u001b[38;5;28;01mif\u001b[39;00m ensure_min_features \u001b[38;5;241m>\u001b[39m \u001b[38;5;241m0\u001b[39m \u001b[38;5;129;01mand\u001b[39;00m array\u001b[38;5;241m.\u001b[39mndim \u001b[38;5;241m==\u001b[39m \u001b[38;5;241m2\u001b[39m:\n\u001b[1;32m    916\u001b[0m     n_features \u001b[38;5;241m=\u001b[39m array\u001b[38;5;241m.\u001b[39mshape[\u001b[38;5;241m1\u001b[39m]\n",
      "\u001b[0;31mValueError\u001b[0m: Found array with 0 sample(s) (shape=(0, 784)) while a minimum of 1 is required by StandardScaler."
     ]
    }
   ],
   "source": [
    "n_labelled=100\n",
    "n_unlabelled=2000\n",
    "num_exps=5\n",
    "class1_arrs=[[] for _ in range(num_exps)]\n",
    "class2_arrs=[[] for _ in range(num_exps)]\n",
    "ssl_arrs=[[] for _ in range(num_exps)]\n",
    "lambda_arrs=[[] for _ in range(num_exps)]\n",
    "sl_arrs=[[] for _ in range(num_exps)]\n",
    "ul_arrs=[[] for _ in range(num_exps)]\n",
    "margin_arrs=[[] for _ in range(num_exps)]\n",
    "from sklearn.svm import LinearSVC\n",
    "\n",
    "\n",
    "for idx in tqdm(range(num_exps)):    \n",
    "    class1_arr=class1_arrs[idx]\n",
    "    class2_arr=class2_arrs[idx]\n",
    "    ssl_arr=ssl_arrs[idx]\n",
    "    lambda_arr=lambda_arrs[idx]\n",
    "    sl_arr=sl_arrs[idx]\n",
    "    ul_arr=ul_arrs[idx]\n",
    "    margin_arr=margin_arrs[idx]\n",
    "    for class1 in np.arange(0,10):\n",
    "        for class2 in range(class1+1, 10):\n",
    "            while True:\n",
    "                x_trans,y_subset= get_classes(x_all,y_all, class1=class1, class2=class2)\n",
    "\n",
    "                x_labelled=x_trans[0:n_labelled]\n",
    "                x_unlabelled=x_trans[n_labelled:n_labelled+n_unlabelled]\n",
    "                y=y_subset[0:n_labelled]\n",
    "                if class1 in y and class2 in y:\n",
    "                    break\n",
    "\n",
    "\n",
    "            x_test=x_trans[n_labelled:]\n",
    "            y_test=y_subset[n_labelled:]\n",
    "#             svc=LinearSVC(C=10^5)\n",
    "#             svc.fit(x_test, y_test)\n",
    "#             margin_=1./np.linalg.norm(svc.coef_)\n",
    "\n",
    "#     #         if margin_ > 3:\n",
    "#     #             continue\n",
    "#             margin_arr.append(margin_)\n",
    "            class1_arr.append(class1)\n",
    "            class2_arr.append(class2)\n",
    "\n",
    "\n",
    "\n",
    "\n",
    "\n",
    "            clf_sl=get_sup_estimator(x_labelled, y)\n",
    "            clf_em=get_unsup_estimator(x_unlabelled, x_test, y_test)\n",
    "            sl_score=clf_sl.score(x_test, y_test)\n",
    "            ul_score=clf_em.score(x_test, y_test)\n",
    "            best_lambda, ssl_score = get_best_lambda(clf_sl, clf_em, x_test, y_test)\n",
    "            ssl_arr.append(ssl_score)\n",
    "            lambda_arr.append(best_lambda)\n",
    "            sl_arr.append(sl_score)\n",
    "            ul_arr.append(ul_score)\n",
    "\n",
    "\n",
    "class1_arrs=np.mean(class1_arrs, axis=0)\n",
    "class2_arrs=np.mean(class2_arrs, axis=0)\n",
    "ssl_arrs=np.mean(ssl_arrs, axis=0)\n",
    "lambda_arrs=np.mean(lambda_arrs, axis=0)\n",
    "sl_arrs=np.mean(sl_arrs, axis=0)\n",
    "ul_arrs=np.mean(ul_arrs, axis=0)\n",
    "margin_arrs=np.mean(margin_arrs, axis=0)"
   ]
  },
  {
   "cell_type": "code",
   "execution_count": 49,
   "metadata": {
    "scrolled": false
   },
   "outputs": [
    {
     "data": {
      "text/plain": [
       "Text(0, 0.5, '$\\\\lambda$')"
      ]
     },
     "execution_count": 49,
     "metadata": {},
     "output_type": "execute_result"
    },
    {
     "data": {
      "image/png": "[encoded data removed]",
      "text/plain": [
       "<Figure size 720x720 with 2 Axes>"
      ]
     },
     "metadata": {
      "needs_background": "light"
     },
     "output_type": "display_data"
    }
   ],
   "source": [
    "fig,ax=plt.subplots(2,1,figsize=(10,10)) \n",
    "def sort_with(arr_, idx_):\n",
    "    return [arr_[i] for i in idx_]\n",
    "sort_idx=np.argsort(ssl_arrs)\n",
    "ax[0].plot(sort_with(ssl_arrs, sort_idx), \n",
    "           label='SSL')\n",
    "ax[0].plot(sort_with(sl_arrs, sort_idx), \n",
    "           label='SL', color='r', linestyle='-.',)\n",
    "ax[0].plot(sort_with(ul_arrs, sort_idx), \n",
    "           label='UL', linestyle='-.', color='g')\n",
    "# ax[0].set_ylim(0.8,1)\n",
    "ax[0].legend(fontsize=22)\n",
    "ax[0].set_xlabel('Margin', fontsize=22)\n",
    "ax[0].set_ylabel('Accuracy', fontsize=22)\n",
    "ax[1].plot(sort_with(lambda_arrs, sort_idx),\n",
    "           linestyle='-', color='k')\n",
    "ax[1].set_xlabel('Margin', fontsize=22)\n",
    "ax[1].set_ylabel('$\\lambda$', fontsize=22)"
   ]
  },
  {
   "cell_type": "code",
   "execution_count": null,
   "metadata": {},
   "outputs": [],
   "source": []
  }
 ],
 "metadata": {
  "colab": {
   "provenance": [],
   "toc_visible": true
  },
  "kernelspec": {
   "display_name": "Python 3 (ipykernel)",
   "language": "python",
   "name": "python3"
  },
  "language_info": {
   "codemirror_mode": {
    "name": "ipython",
    "version": 3
   },
   "file_extension": ".py",
   "mimetype": "text/x-python",
   "name": "python",
   "nbconvert_exporter": "python",
   "pygments_lexer": "ipython3",
   "version": "3.9.5"
  }
 },
 "nbformat": 4,
 "nbformat_minor": 1
}
